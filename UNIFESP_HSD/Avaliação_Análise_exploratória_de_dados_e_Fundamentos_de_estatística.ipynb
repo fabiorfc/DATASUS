{
  "nbformat": 4,
  "nbformat_minor": 0,
  "metadata": {
    "colab": {
      "name": "Avaliação - Análise exploratória de dados e Fundamentos de estatística.ipynb",
      "provenance": [],
      "collapsed_sections": [],
      "include_colab_link": true
    },
    "kernelspec": {
      "name": "python3",
      "display_name": "Python 3"
    }
  },
  "cells": [
    {
      "cell_type": "markdown",
      "metadata": {
        "id": "view-in-github",
        "colab_type": "text"
      },
      "source": [
        "<a href=\"https://colab.research.google.com/github/fabiorfc/DATASUS/blob/master/UNIFESP_HSD/Avalia%C3%A7%C3%A3o_An%C3%A1lise_explorat%C3%B3ria_de_dados_e_Fundamentos_de_estat%C3%ADstica.ipynb\" target=\"_parent\"><img src=\"https://colab.research.google.com/assets/colab-badge.svg\" alt=\"Open In Colab\"/></a>"
      ]
    },
    {
      "cell_type": "markdown",
      "metadata": {
        "id": "GhFMpIlqREN-",
        "colab_type": "text"
      },
      "source": [
        "# **Análise de dados**\n",
        "\n",
        "**Aluno:** Fábio Ricardo Ferreira correa\n",
        "****\n",
        "\n",
        "## Resumo\n",
        "Neste trabalho, foram utilizados dados dos Sistema de Informação de Nascidos vivos do estado de São Paulo informados no ano de 2017 (SINASC SP 2017).\n",
        "O escopo deste trabalho restriugiu-se ao estudos de associação entre à ocorrência de ao menos um filho morto e as variáveis:\n",
        "*   Quantidades de semanas de gestação\n",
        "*   APGAR mensurado no primeiro minuto de vida da criança\n",
        "*   APGAR mensurado no quinto minuto de vida da criança\n",
        "*   Idade da mãe\n",
        "*   Quantidades de consultas pré-natal\n",
        "*   Local de nascimento\n",
        "\n",
        "As análises deste estudo podem ser dividas em **Análise Univariada** e **Análise Bivariada**. \n",
        "\n",
        "Na primeira parte foi avaliada as estatísticas descritivas da base de dados, na qual foram verificadas algumas inconsistência nos dados e posterior eliminação das referentes linhas.\n",
        "\n",
        "A segunda parte do estudo, se preocupou em avaliar a relação entre a ocorrência de ao menos um filho morto com as demais variáveis."
      ]
    },
    {
      "cell_type": "markdown",
      "metadata": {
        "id": "3PmzCCBAEIGU",
        "colab_type": "text"
      },
      "source": [
        "# 1) **Preparando o Ambiente de análise dos dados**\n",
        "\n",
        "Esta primeira sessão foi utilizada para o preparamento do ambiente e tratamentos dos dados do SINASC.\n",
        "\n",
        "Os dados utilizados neste estudo podem ser encontrado nos seguintes endereços\n",
        "\n",
        "**Acesso aos dados do DATASUS**: http://www2.datasus.gov.br/DATASUS/index.php?area=0901\n",
        "\n",
        "**Acesso ao repositório completo**: ftp://ftp.datasus.gov.br/dissemin/publicos"
      ]
    },
    {
      "cell_type": "markdown",
      "metadata": {
        "id": "jlw2EDVRA1Qo",
        "colab_type": "text"
      },
      "source": [
        "## 1.1) Instalando o pysus e o dbfread"
      ]
    },
    {
      "cell_type": "code",
      "metadata": {
        "id": "rzeISvVcAlEx",
        "colab_type": "code",
        "outputId": "b096d5f4-153e-433c-a177-6eb0678682c5",
        "colab": {
          "base_uri": "https://localhost:8080/",
          "height": 445
        }
      },
      "source": [
        "!pip install pysus"
      ],
      "execution_count": 0,
      "outputs": [
        {
          "output_type": "stream",
          "text": [
            "Requirement already satisfied: pysus in /usr/local/lib/python3.6/dist-packages (0.4.1)\n",
            "Requirement already satisfied: fastparquet in /usr/local/lib/python3.6/dist-packages (from pysus) (0.3.2)\n",
            "Requirement already satisfied: pyarrow in /usr/local/lib/python3.6/dist-packages (from pysus) (0.14.1)\n",
            "Requirement already satisfied: cffi>=1.0.0 in /usr/local/lib/python3.6/dist-packages (from pysus) (1.13.2)\n",
            "Requirement already satisfied: pandas in /usr/local/lib/python3.6/dist-packages (from pysus) (0.25.3)\n",
            "Requirement already satisfied: dbfread in /usr/local/lib/python3.6/dist-packages (from pysus) (2.0.7)\n",
            "Requirement already satisfied: geocoder in /usr/local/lib/python3.6/dist-packages (from pysus) (1.38.1)\n",
            "Requirement already satisfied: requests in /usr/local/lib/python3.6/dist-packages (from pysus) (2.21.0)\n",
            "Requirement already satisfied: six in /usr/local/lib/python3.6/dist-packages (from fastparquet->pysus) (1.12.0)\n",
            "Requirement already satisfied: thrift>=0.11.0 in /usr/local/lib/python3.6/dist-packages (from fastparquet->pysus) (0.13.0)\n",
            "Requirement already satisfied: numpy>=1.11 in /usr/local/lib/python3.6/dist-packages (from fastparquet->pysus) (1.17.4)\n",
            "Requirement already satisfied: numba>=0.28 in /usr/local/lib/python3.6/dist-packages (from fastparquet->pysus) (0.40.1)\n",
            "Requirement already satisfied: pycparser in /usr/local/lib/python3.6/dist-packages (from cffi>=1.0.0->pysus) (2.19)\n",
            "Requirement already satisfied: python-dateutil>=2.6.1 in /usr/local/lib/python3.6/dist-packages (from pandas->pysus) (2.6.1)\n",
            "Requirement already satisfied: pytz>=2017.2 in /usr/local/lib/python3.6/dist-packages (from pandas->pysus) (2018.9)\n",
            "Requirement already satisfied: ratelim in /usr/local/lib/python3.6/dist-packages (from geocoder->pysus) (0.1.6)\n",
            "Requirement already satisfied: click in /usr/local/lib/python3.6/dist-packages (from geocoder->pysus) (7.0)\n",
            "Requirement already satisfied: future in /usr/local/lib/python3.6/dist-packages (from geocoder->pysus) (0.16.0)\n",
            "Requirement already satisfied: chardet<3.1.0,>=3.0.2 in /usr/local/lib/python3.6/dist-packages (from requests->pysus) (3.0.4)\n",
            "Requirement already satisfied: certifi>=2017.4.17 in /usr/local/lib/python3.6/dist-packages (from requests->pysus) (2019.11.28)\n",
            "Requirement already satisfied: urllib3<1.25,>=1.21.1 in /usr/local/lib/python3.6/dist-packages (from requests->pysus) (1.24.3)\n",
            "Requirement already satisfied: idna<2.9,>=2.5 in /usr/local/lib/python3.6/dist-packages (from requests->pysus) (2.8)\n",
            "Requirement already satisfied: llvmlite>=0.25.0dev0 in /usr/local/lib/python3.6/dist-packages (from numba>=0.28->fastparquet->pysus) (0.30.0)\n",
            "Requirement already satisfied: decorator in /usr/local/lib/python3.6/dist-packages (from ratelim->geocoder->pysus) (4.4.1)\n"
          ],
          "name": "stdout"
        }
      ]
    },
    {
      "cell_type": "markdown",
      "metadata": {
        "id": "g8tEFLXrEQpg",
        "colab_type": "text"
      },
      "source": [
        "## 1.2) Importando as libraries\n"
      ]
    },
    {
      "cell_type": "code",
      "metadata": {
        "id": "6II7lopRBFSj",
        "colab_type": "code",
        "colab": {}
      },
      "source": [
        "from pysus.utilities.readdbc import read_dbc\n",
        "import pandas as pd\n",
        "import numpy as np\n",
        "import matplotlib.pyplot as plt\n",
        "import seaborn as sns\n",
        "import statsmodels.discrete.discrete_model as sm\n",
        "from sklearn.feature_selection import SelectFromModel\n",
        "from sklearn.linear_model import LogisticRegression\n",
        "from sklearn.metrics import roc_auc_score,roc_curve"
      ],
      "execution_count": 0,
      "outputs": []
    },
    {
      "cell_type": "markdown",
      "metadata": {
        "id": "4V1KciLZEVZ0",
        "colab_type": "text"
      },
      "source": [
        "## 1.3) Caregando os dados no formato .dbf e salvando em .csv\n",
        "\n",
        "**Observação**: A ideia de ler os dados em formato *.dbf* e salvar em *.csv* é poder realizar a leitura dos dados em diferentes momentos de forma mais rápida."
      ]
    },
    {
      "cell_type": "code",
      "metadata": {
        "id": "jPe3av-ks-AK",
        "colab_type": "code",
        "colab": {}
      },
      "source": [
        "#dados = read_dbc('DNSP2017.dbc', encoding='iso-8859-1')\n",
        "#dados.to_csv('DNSP2017.csv', index=False)"
      ],
      "execution_count": 0,
      "outputs": []
    },
    {
      "cell_type": "markdown",
      "metadata": {
        "id": "3NRwkyelJnl2",
        "colab_type": "text"
      },
      "source": [
        "## 1.5) Carregando os dados no formato .csv"
      ]
    },
    {
      "cell_type": "code",
      "metadata": {
        "id": "_lt5y78EJrZy",
        "colab_type": "code",
        "outputId": "494ae35b-d69b-4b8d-b687-90d80b9df7ab",
        "colab": {
          "base_uri": "https://localhost:8080/",
          "height": 224
        }
      },
      "source": [
        "dados = pd.read_csv('DNSP2017.csv')\n",
        "dados.head()"
      ],
      "execution_count": 0,
      "outputs": [
        {
          "output_type": "execute_result",
          "data": {
            "text/html": [
              "<div>\n",
              "<style scoped>\n",
              "    .dataframe tbody tr th:only-of-type {\n",
              "        vertical-align: middle;\n",
              "    }\n",
              "\n",
              "    .dataframe tbody tr th {\n",
              "        vertical-align: top;\n",
              "    }\n",
              "\n",
              "    .dataframe thead th {\n",
              "        text-align: right;\n",
              "    }\n",
              "</style>\n",
              "<table border=\"1\" class=\"dataframe\">\n",
              "  <thead>\n",
              "    <tr style=\"text-align: right;\">\n",
              "      <th></th>\n",
              "      <th>NUMERODN</th>\n",
              "      <th>CODINST</th>\n",
              "      <th>ORIGEM</th>\n",
              "      <th>NUMERODV</th>\n",
              "      <th>PREFIXODN</th>\n",
              "      <th>CODESTAB</th>\n",
              "      <th>CODMUNNASC</th>\n",
              "      <th>LOCNASC</th>\n",
              "      <th>IDADEMAE</th>\n",
              "      <th>ESTCIVMAE</th>\n",
              "      <th>ESCMAE</th>\n",
              "      <th>CODOCUPMAE</th>\n",
              "      <th>QTDFILVIVO</th>\n",
              "      <th>QTDFILMORT</th>\n",
              "      <th>CODMUNRES</th>\n",
              "      <th>GESTACAO</th>\n",
              "      <th>GRAVIDEZ</th>\n",
              "      <th>PARTO</th>\n",
              "      <th>CONSULTAS</th>\n",
              "      <th>DTNASC</th>\n",
              "      <th>HORANASC</th>\n",
              "      <th>SEXO</th>\n",
              "      <th>APGAR1</th>\n",
              "      <th>APGAR5</th>\n",
              "      <th>RACACOR</th>\n",
              "      <th>PESO</th>\n",
              "      <th>IDANOMAL</th>\n",
              "      <th>DTCADASTRO</th>\n",
              "      <th>CODANOMAL</th>\n",
              "      <th>NUMEROLOTE</th>\n",
              "      <th>VERSAOSIST</th>\n",
              "      <th>DTRECEBIM</th>\n",
              "      <th>DIFDATA</th>\n",
              "      <th>DTRECORIGA</th>\n",
              "      <th>NATURALMAE</th>\n",
              "      <th>CODMUNNATU</th>\n",
              "      <th>CODUFNATU</th>\n",
              "      <th>ESCMAE2010</th>\n",
              "      <th>SERIESCMAE</th>\n",
              "      <th>DTNASCMAE</th>\n",
              "      <th>RACACORMAE</th>\n",
              "      <th>QTDGESTANT</th>\n",
              "      <th>QTDPARTNOR</th>\n",
              "      <th>QTDPARTCES</th>\n",
              "      <th>IDADEPAI</th>\n",
              "      <th>DTULTMENST</th>\n",
              "      <th>SEMAGESTAC</th>\n",
              "      <th>TPMETESTIM</th>\n",
              "      <th>CONSPRENAT</th>\n",
              "      <th>MESPRENAT</th>\n",
              "      <th>TPAPRESENT</th>\n",
              "      <th>STTRABPART</th>\n",
              "      <th>STCESPARTO</th>\n",
              "      <th>TPNASCASSI</th>\n",
              "      <th>TPFUNCRESP</th>\n",
              "      <th>TPDOCRESP</th>\n",
              "      <th>DTDECLARAC</th>\n",
              "      <th>ESCMAEAGR1</th>\n",
              "      <th>STDNEPIDEM</th>\n",
              "      <th>STDNNOVA</th>\n",
              "      <th>CODPAISRES</th>\n",
              "      <th>TPROBSON</th>\n",
              "      <th>PARIDADE</th>\n",
              "      <th>KOTELCHUCK</th>\n",
              "    </tr>\n",
              "  </thead>\n",
              "  <tbody>\n",
              "    <tr>\n",
              "      <th>0</th>\n",
              "      <td>71507302</td>\n",
              "      <td>MPA1501400001</td>\n",
              "      <td>1</td>\n",
              "      <td>0.0</td>\n",
              "      <td>30.0</td>\n",
              "      <td>2340992.0</td>\n",
              "      <td>150140</td>\n",
              "      <td>1</td>\n",
              "      <td>18</td>\n",
              "      <td>1.0</td>\n",
              "      <td>4.0</td>\n",
              "      <td>999992.0</td>\n",
              "      <td>NaN</td>\n",
              "      <td>NaN</td>\n",
              "      <td>351840</td>\n",
              "      <td>5.0</td>\n",
              "      <td>1.0</td>\n",
              "      <td>2.0</td>\n",
              "      <td>4</td>\n",
              "      <td>17062017</td>\n",
              "      <td>1905.0</td>\n",
              "      <td>1</td>\n",
              "      <td>8.0</td>\n",
              "      <td>9.0</td>\n",
              "      <td>4.0</td>\n",
              "      <td>3580.0</td>\n",
              "      <td>2.0</td>\n",
              "      <td>3072017</td>\n",
              "      <td>NaN</td>\n",
              "      <td>20170027</td>\n",
              "      <td>3.2.01</td>\n",
              "      <td>29082017</td>\n",
              "      <td>73</td>\n",
              "      <td>NaN</td>\n",
              "      <td>815.0</td>\n",
              "      <td>150140.0</td>\n",
              "      <td>15.0</td>\n",
              "      <td>3.0</td>\n",
              "      <td>3.0</td>\n",
              "      <td>30121998.0</td>\n",
              "      <td>4.0</td>\n",
              "      <td>NaN</td>\n",
              "      <td>NaN</td>\n",
              "      <td>NaN</td>\n",
              "      <td>21.0</td>\n",
              "      <td>12092016.0</td>\n",
              "      <td>39.0</td>\n",
              "      <td>8.0</td>\n",
              "      <td>16.0</td>\n",
              "      <td>1.0</td>\n",
              "      <td>1.0</td>\n",
              "      <td>2.0</td>\n",
              "      <td>9.0</td>\n",
              "      <td>1.0</td>\n",
              "      <td>5.0</td>\n",
              "      <td>0.0</td>\n",
              "      <td>19062017.0</td>\n",
              "      <td>6.0</td>\n",
              "      <td>0.0</td>\n",
              "      <td>1.0</td>\n",
              "      <td>NaN</td>\n",
              "      <td>1.0</td>\n",
              "      <td>0.0</td>\n",
              "      <td>5.0</td>\n",
              "    </tr>\n",
              "    <tr>\n",
              "      <th>1</th>\n",
              "      <td>72381521</td>\n",
              "      <td>ETO1721000001</td>\n",
              "      <td>1</td>\n",
              "      <td>8.0</td>\n",
              "      <td>30.0</td>\n",
              "      <td>2786109.0</td>\n",
              "      <td>170950</td>\n",
              "      <td>1</td>\n",
              "      <td>13</td>\n",
              "      <td>1.0</td>\n",
              "      <td>3.0</td>\n",
              "      <td>999991.0</td>\n",
              "      <td>0.0</td>\n",
              "      <td>0.0</td>\n",
              "      <td>350900</td>\n",
              "      <td>4.0</td>\n",
              "      <td>1.0</td>\n",
              "      <td>1.0</td>\n",
              "      <td>2</td>\n",
              "      <td>17012017</td>\n",
              "      <td>1815.0</td>\n",
              "      <td>1</td>\n",
              "      <td>8.0</td>\n",
              "      <td>10.0</td>\n",
              "      <td>4.0</td>\n",
              "      <td>1936.0</td>\n",
              "      <td>2.0</td>\n",
              "      <td>13092018</td>\n",
              "      <td>NaN</td>\n",
              "      <td>20180031</td>\n",
              "      <td>3.2.00</td>\n",
              "      <td>17092018</td>\n",
              "      <td>608</td>\n",
              "      <td>NaN</td>\n",
              "      <td>821.0</td>\n",
              "      <td>211130.0</td>\n",
              "      <td>21.0</td>\n",
              "      <td>2.0</td>\n",
              "      <td>6.0</td>\n",
              "      <td>27032003.0</td>\n",
              "      <td>4.0</td>\n",
              "      <td>0.0</td>\n",
              "      <td>0.0</td>\n",
              "      <td>0.0</td>\n",
              "      <td>22.0</td>\n",
              "      <td>1062016.0</td>\n",
              "      <td>32.0</td>\n",
              "      <td>8.0</td>\n",
              "      <td>3.0</td>\n",
              "      <td>7.0</td>\n",
              "      <td>2.0</td>\n",
              "      <td>1.0</td>\n",
              "      <td>3.0</td>\n",
              "      <td>1.0</td>\n",
              "      <td>2.0</td>\n",
              "      <td>3.0</td>\n",
              "      <td>17012017.0</td>\n",
              "      <td>3.0</td>\n",
              "      <td>0.0</td>\n",
              "      <td>1.0</td>\n",
              "      <td>NaN</td>\n",
              "      <td>6.0</td>\n",
              "      <td>0.0</td>\n",
              "      <td>2.0</td>\n",
              "    </tr>\n",
              "    <tr>\n",
              "      <th>2</th>\n",
              "      <td>72380744</td>\n",
              "      <td>ETO1721000001</td>\n",
              "      <td>1</td>\n",
              "      <td>4.0</td>\n",
              "      <td>30.0</td>\n",
              "      <td>2755157.0</td>\n",
              "      <td>172100</td>\n",
              "      <td>1</td>\n",
              "      <td>17</td>\n",
              "      <td>5.0</td>\n",
              "      <td>4.0</td>\n",
              "      <td>999992.0</td>\n",
              "      <td>0.0</td>\n",
              "      <td>0.0</td>\n",
              "      <td>355220</td>\n",
              "      <td>5.0</td>\n",
              "      <td>1.0</td>\n",
              "      <td>2.0</td>\n",
              "      <td>4</td>\n",
              "      <td>6032017</td>\n",
              "      <td>446.0</td>\n",
              "      <td>1</td>\n",
              "      <td>9.0</td>\n",
              "      <td>10.0</td>\n",
              "      <td>4.0</td>\n",
              "      <td>3370.0</td>\n",
              "      <td>2.0</td>\n",
              "      <td>9032017</td>\n",
              "      <td>NaN</td>\n",
              "      <td>20170021</td>\n",
              "      <td>3.2.00</td>\n",
              "      <td>10042017</td>\n",
              "      <td>35</td>\n",
              "      <td>NaN</td>\n",
              "      <td>817.0</td>\n",
              "      <td>171820.0</td>\n",
              "      <td>17.0</td>\n",
              "      <td>3.0</td>\n",
              "      <td>3.0</td>\n",
              "      <td>5041999.0</td>\n",
              "      <td>4.0</td>\n",
              "      <td>0.0</td>\n",
              "      <td>0.0</td>\n",
              "      <td>0.0</td>\n",
              "      <td>NaN</td>\n",
              "      <td>NaN</td>\n",
              "      <td>39.0</td>\n",
              "      <td>9.0</td>\n",
              "      <td>7.0</td>\n",
              "      <td>2.0</td>\n",
              "      <td>1.0</td>\n",
              "      <td>2.0</td>\n",
              "      <td>1.0</td>\n",
              "      <td>1.0</td>\n",
              "      <td>NaN</td>\n",
              "      <td>3.0</td>\n",
              "      <td>6032017.0</td>\n",
              "      <td>6.0</td>\n",
              "      <td>0.0</td>\n",
              "      <td>1.0</td>\n",
              "      <td>NaN</td>\n",
              "      <td>2.0</td>\n",
              "      <td>0.0</td>\n",
              "      <td>5.0</td>\n",
              "    </tr>\n",
              "    <tr>\n",
              "      <th>3</th>\n",
              "      <td>71588260</td>\n",
              "      <td>MMA2106750001</td>\n",
              "      <td>1</td>\n",
              "      <td>2.0</td>\n",
              "      <td>30.0</td>\n",
              "      <td>2455463.0</td>\n",
              "      <td>210675</td>\n",
              "      <td>1</td>\n",
              "      <td>19</td>\n",
              "      <td>1.0</td>\n",
              "      <td>4.0</td>\n",
              "      <td>NaN</td>\n",
              "      <td>1.0</td>\n",
              "      <td>0.0</td>\n",
              "      <td>350950</td>\n",
              "      <td>5.0</td>\n",
              "      <td>1.0</td>\n",
              "      <td>2.0</td>\n",
              "      <td>3</td>\n",
              "      <td>25032017</td>\n",
              "      <td>235.0</td>\n",
              "      <td>2</td>\n",
              "      <td>9.0</td>\n",
              "      <td>10.0</td>\n",
              "      <td>4.0</td>\n",
              "      <td>3050.0</td>\n",
              "      <td>2.0</td>\n",
              "      <td>13032018</td>\n",
              "      <td>NaN</td>\n",
              "      <td>20180006</td>\n",
              "      <td>3.2.01</td>\n",
              "      <td>10042018</td>\n",
              "      <td>381</td>\n",
              "      <td>NaN</td>\n",
              "      <td>835.0</td>\n",
              "      <td>350950.0</td>\n",
              "      <td>35.0</td>\n",
              "      <td>3.0</td>\n",
              "      <td>2.0</td>\n",
              "      <td>7081997.0</td>\n",
              "      <td>4.0</td>\n",
              "      <td>1.0</td>\n",
              "      <td>0.0</td>\n",
              "      <td>1.0</td>\n",
              "      <td>NaN</td>\n",
              "      <td>29062016.0</td>\n",
              "      <td>38.0</td>\n",
              "      <td>8.0</td>\n",
              "      <td>6.0</td>\n",
              "      <td>9.0</td>\n",
              "      <td>1.0</td>\n",
              "      <td>2.0</td>\n",
              "      <td>9.0</td>\n",
              "      <td>1.0</td>\n",
              "      <td>5.0</td>\n",
              "      <td>4.0</td>\n",
              "      <td>27032017.0</td>\n",
              "      <td>5.0</td>\n",
              "      <td>0.0</td>\n",
              "      <td>1.0</td>\n",
              "      <td>NaN</td>\n",
              "      <td>5.0</td>\n",
              "      <td>1.0</td>\n",
              "      <td>2.0</td>\n",
              "    </tr>\n",
              "    <tr>\n",
              "      <th>4</th>\n",
              "      <td>71564068</td>\n",
              "      <td>MMA2112300001</td>\n",
              "      <td>1</td>\n",
              "      <td>4.0</td>\n",
              "      <td>30.0</td>\n",
              "      <td>6553567.0</td>\n",
              "      <td>211230</td>\n",
              "      <td>1</td>\n",
              "      <td>24</td>\n",
              "      <td>1.0</td>\n",
              "      <td>4.0</td>\n",
              "      <td>811705.0</td>\n",
              "      <td>2.0</td>\n",
              "      <td>0.0</td>\n",
              "      <td>355030</td>\n",
              "      <td>5.0</td>\n",
              "      <td>1.0</td>\n",
              "      <td>2.0</td>\n",
              "      <td>4</td>\n",
              "      <td>16022017</td>\n",
              "      <td>1010.0</td>\n",
              "      <td>1</td>\n",
              "      <td>10.0</td>\n",
              "      <td>10.0</td>\n",
              "      <td>4.0</td>\n",
              "      <td>3900.0</td>\n",
              "      <td>2.0</td>\n",
              "      <td>20022017</td>\n",
              "      <td>NaN</td>\n",
              "      <td>20170003</td>\n",
              "      <td>3.2.01</td>\n",
              "      <td>20022017</td>\n",
              "      <td>4</td>\n",
              "      <td>NaN</td>\n",
              "      <td>835.0</td>\n",
              "      <td>355030.0</td>\n",
              "      <td>35.0</td>\n",
              "      <td>3.0</td>\n",
              "      <td>2.0</td>\n",
              "      <td>26011993.0</td>\n",
              "      <td>4.0</td>\n",
              "      <td>2.0</td>\n",
              "      <td>1.0</td>\n",
              "      <td>1.0</td>\n",
              "      <td>NaN</td>\n",
              "      <td>1052016.0</td>\n",
              "      <td>41.0</td>\n",
              "      <td>8.0</td>\n",
              "      <td>8.0</td>\n",
              "      <td>1.0</td>\n",
              "      <td>1.0</td>\n",
              "      <td>2.0</td>\n",
              "      <td>2.0</td>\n",
              "      <td>1.0</td>\n",
              "      <td>5.0</td>\n",
              "      <td>5.0</td>\n",
              "      <td>17022017.0</td>\n",
              "      <td>5.0</td>\n",
              "      <td>0.0</td>\n",
              "      <td>1.0</td>\n",
              "      <td>NaN</td>\n",
              "      <td>5.0</td>\n",
              "      <td>1.0</td>\n",
              "      <td>5.0</td>\n",
              "    </tr>\n",
              "  </tbody>\n",
              "</table>\n",
              "</div>"
            ],
            "text/plain": [
              "   NUMERODN        CODINST  ORIGEM  ...  TPROBSON  PARIDADE  KOTELCHUCK\n",
              "0  71507302  MPA1501400001       1  ...       1.0       0.0         5.0\n",
              "1  72381521  ETO1721000001       1  ...       6.0       0.0         2.0\n",
              "2  72380744  ETO1721000001       1  ...       2.0       0.0         5.0\n",
              "3  71588260  MMA2106750001       1  ...       5.0       1.0         2.0\n",
              "4  71564068  MMA2112300001       1  ...       5.0       1.0         5.0\n",
              "\n",
              "[5 rows x 64 columns]"
            ]
          },
          "metadata": {
            "tags": []
          },
          "execution_count": 7
        }
      ]
    },
    {
      "cell_type": "markdown",
      "metadata": {
        "id": "IJ6FspP4SW6O",
        "colab_type": "text"
      },
      "source": [
        "# 2) **Explorando a base de dados**"
      ]
    },
    {
      "cell_type": "markdown",
      "metadata": {
        "id": "yf5w-_I27VoF",
        "colab_type": "text"
      },
      "source": [
        "## 2.1) Variáveis selecionadas para realização dos estudo\n",
        "\n",
        "As variáveis analisadas neste trabalho serão\n",
        "\n",
        "*   **SEMAGESTAC**: Semanas de gestação\n",
        "*   **APGAR1**: Apgar mensurado no primeiro minuto de vida do recém nascido\n",
        "*   **APGAR5**: Apgar mensurado no quinto minuto de vida do recém nascido\n",
        "*   **IDADEMAE**: Idade da mãe\n",
        "*   **LOCNASC**: Local de Nascimento, sendo:\n",
        "  1.   Hospital\n",
        "  2.   Outro Estabelecimento de Saúde\n",
        "  3.   Domicílio\n",
        "  4.   Outros\n",
        "*   **CONSULTAS**: Número de consultas Pré-natal\n",
        "*   **QTDFILMORT**: Quantidade de filhos mortos\n"
      ]
    },
    {
      "cell_type": "markdown",
      "metadata": {
        "id": "SCOyA0_A73xd",
        "colab_type": "text"
      },
      "source": [
        "## 2.2) Natureza das variáveis\n",
        "\n",
        "O conjunto de variáveis selecionadas é composto por 6 do tipo Quantitativa  e 1 Qualitativa. Especificamente, podemos classificar como:\n",
        "*   **Qualitativa nominal**:\n",
        "  *   **LOCNASC**: Local de Nascimento\n",
        "*   **Quantitativa contínua**\n",
        "  *   **SEMAGESTAC**\n",
        "  *   **APGAR1**\n",
        "  *   **APGAR5**\n",
        "  *   **IDADEMAE**\n",
        "*   **Quantitativa discreta**\n",
        "  * **CONSULTAS**"
      ]
    },
    {
      "cell_type": "code",
      "metadata": {
        "id": "pdXGBhtwCA4Q",
        "colab_type": "code",
        "outputId": "ae0dd6b1-19d9-463b-a6b0-3efb08e801ac",
        "colab": {
          "base_uri": "https://localhost:8080/",
          "height": 204
        }
      },
      "source": [
        "# Seleção das variáveis de interesse\n",
        "dados = dados[['SEMAGESTAC','APGAR1','APGAR5','IDADEMAE','LOCNASC','CONSULTAS','QTDFILMORT']]\n",
        "dados.head()"
      ],
      "execution_count": 0,
      "outputs": [
        {
          "output_type": "execute_result",
          "data": {
            "text/html": [
              "<div>\n",
              "<style scoped>\n",
              "    .dataframe tbody tr th:only-of-type {\n",
              "        vertical-align: middle;\n",
              "    }\n",
              "\n",
              "    .dataframe tbody tr th {\n",
              "        vertical-align: top;\n",
              "    }\n",
              "\n",
              "    .dataframe thead th {\n",
              "        text-align: right;\n",
              "    }\n",
              "</style>\n",
              "<table border=\"1\" class=\"dataframe\">\n",
              "  <thead>\n",
              "    <tr style=\"text-align: right;\">\n",
              "      <th></th>\n",
              "      <th>SEMAGESTAC</th>\n",
              "      <th>APGAR1</th>\n",
              "      <th>APGAR5</th>\n",
              "      <th>IDADEMAE</th>\n",
              "      <th>LOCNASC</th>\n",
              "      <th>CONSULTAS</th>\n",
              "      <th>QTDFILMORT</th>\n",
              "    </tr>\n",
              "  </thead>\n",
              "  <tbody>\n",
              "    <tr>\n",
              "      <th>0</th>\n",
              "      <td>39.0</td>\n",
              "      <td>8.0</td>\n",
              "      <td>9.0</td>\n",
              "      <td>18</td>\n",
              "      <td>1</td>\n",
              "      <td>4</td>\n",
              "      <td>NaN</td>\n",
              "    </tr>\n",
              "    <tr>\n",
              "      <th>1</th>\n",
              "      <td>32.0</td>\n",
              "      <td>8.0</td>\n",
              "      <td>10.0</td>\n",
              "      <td>13</td>\n",
              "      <td>1</td>\n",
              "      <td>2</td>\n",
              "      <td>0.0</td>\n",
              "    </tr>\n",
              "    <tr>\n",
              "      <th>2</th>\n",
              "      <td>39.0</td>\n",
              "      <td>9.0</td>\n",
              "      <td>10.0</td>\n",
              "      <td>17</td>\n",
              "      <td>1</td>\n",
              "      <td>4</td>\n",
              "      <td>0.0</td>\n",
              "    </tr>\n",
              "    <tr>\n",
              "      <th>3</th>\n",
              "      <td>38.0</td>\n",
              "      <td>9.0</td>\n",
              "      <td>10.0</td>\n",
              "      <td>19</td>\n",
              "      <td>1</td>\n",
              "      <td>3</td>\n",
              "      <td>0.0</td>\n",
              "    </tr>\n",
              "    <tr>\n",
              "      <th>4</th>\n",
              "      <td>41.0</td>\n",
              "      <td>10.0</td>\n",
              "      <td>10.0</td>\n",
              "      <td>24</td>\n",
              "      <td>1</td>\n",
              "      <td>4</td>\n",
              "      <td>0.0</td>\n",
              "    </tr>\n",
              "  </tbody>\n",
              "</table>\n",
              "</div>"
            ],
            "text/plain": [
              "   SEMAGESTAC  APGAR1  APGAR5  IDADEMAE  LOCNASC  CONSULTAS  QTDFILMORT\n",
              "0        39.0     8.0     9.0        18        1          4         NaN\n",
              "1        32.0     8.0    10.0        13        1          2         0.0\n",
              "2        39.0     9.0    10.0        17        1          4         0.0\n",
              "3        38.0     9.0    10.0        19        1          3         0.0\n",
              "4        41.0    10.0    10.0        24        1          4         0.0"
            ]
          },
          "metadata": {
            "tags": []
          },
          "execution_count": 8
        }
      ]
    },
    {
      "cell_type": "code",
      "metadata": {
        "id": "EqF9N2DE4i4m",
        "colab_type": "code",
        "colab": {}
      },
      "source": [
        "# Mapeamento do local de Nascimento\n",
        "dados[\"LOCNASC\"] = dados[\"LOCNASC\"].map({1:\"Hospital\",2:\"Outro Estabelecimento de Saúde\",3:\"Domicílio\",4:\"Outros\"})"
      ],
      "execution_count": 0,
      "outputs": []
    },
    {
      "cell_type": "markdown",
      "metadata": {
        "id": "PAsWKjnZ_nMv",
        "colab_type": "text"
      },
      "source": [
        "## 2.3) Criação de novas variáveis e tratamento da base\n",
        "\n",
        "#### FLAG_FILHOS_MORTOS\n",
        "Como o objetivo deste estudo é avaliar a associação das variáveis selecionadas com a Quantidade de Filhos Mortos, foi criada uma nova variável para do tipo **Qualitativa Nominal** de nome **FLAG_FILHOS_MORTOS** para a qual o valor 1, indica que houve ao menos um filho morto e 0, caso contrário. \n",
        "\n",
        "#### CICLO_DE_VIDA\n",
        "O conceito dessa variável é separar a idade das mulheres em faixas, de acordo com o documento *Mulheres e Saúde: Evidências de hoje, agenda de amanhã*. As faixas são\n",
        "*   Até os 18 anos.\n",
        "*   De 18 aos 34 (inclusive)\n",
        "*   Dos 34 aos 39 (inclusive)\n",
        "*   Dos 39 aos 40 (inclusive)\n",
        "*   Acima de e 40 (inclusive)\n",
        "\n",
        "#### Exclusão de linhas com valores nulos\n",
        "Para esta análise, foram excluídas as linhas nas quais havia um ou mais valores nulos para qualquer uma das variáveis selecionadas"
      ]
    },
    {
      "cell_type": "markdown",
      "metadata": {
        "id": "qDwQjSkYWHNC",
        "colab_type": "text"
      },
      "source": [
        "### 2.3.1) Exclusão das linhas com algum valor nulo"
      ]
    },
    {
      "cell_type": "code",
      "metadata": {
        "id": "isIGpSXEdTbO",
        "colab_type": "code",
        "outputId": "b999aa81-c0db-4920-d0ff-59a483e18d27",
        "colab": {
          "base_uri": "https://localhost:8080/",
          "height": 266
        }
      },
      "source": [
        "# Verificação dos valores nulos no conjunto de dados\n",
        "verificacao_dos_nulos = dados.isna().sum()\n",
        "pd.DataFrame({\"# nulos\":verificacao_dos_nulos, \"% Nulos\":round(100*verificacao_dos_nulos/len(dados),2)})"
      ],
      "execution_count": 0,
      "outputs": [
        {
          "output_type": "execute_result",
          "data": {
            "text/html": [
              "<div>\n",
              "<style scoped>\n",
              "    .dataframe tbody tr th:only-of-type {\n",
              "        vertical-align: middle;\n",
              "    }\n",
              "\n",
              "    .dataframe tbody tr th {\n",
              "        vertical-align: top;\n",
              "    }\n",
              "\n",
              "    .dataframe thead th {\n",
              "        text-align: right;\n",
              "    }\n",
              "</style>\n",
              "<table border=\"1\" class=\"dataframe\">\n",
              "  <thead>\n",
              "    <tr style=\"text-align: right;\">\n",
              "      <th></th>\n",
              "      <th># nulos</th>\n",
              "      <th>% Nulos</th>\n",
              "    </tr>\n",
              "  </thead>\n",
              "  <tbody>\n",
              "    <tr>\n",
              "      <th>SEMAGESTAC</th>\n",
              "      <td>585</td>\n",
              "      <td>0.34</td>\n",
              "    </tr>\n",
              "    <tr>\n",
              "      <th>APGAR1</th>\n",
              "      <td>562</td>\n",
              "      <td>0.33</td>\n",
              "    </tr>\n",
              "    <tr>\n",
              "      <th>APGAR5</th>\n",
              "      <td>519</td>\n",
              "      <td>0.30</td>\n",
              "    </tr>\n",
              "    <tr>\n",
              "      <th>IDADEMAE</th>\n",
              "      <td>0</td>\n",
              "      <td>0.00</td>\n",
              "    </tr>\n",
              "    <tr>\n",
              "      <th>LOCNASC</th>\n",
              "      <td>4</td>\n",
              "      <td>0.00</td>\n",
              "    </tr>\n",
              "    <tr>\n",
              "      <th>CONSULTAS</th>\n",
              "      <td>0</td>\n",
              "      <td>0.00</td>\n",
              "    </tr>\n",
              "    <tr>\n",
              "      <th>QTDFILMORT</th>\n",
              "      <td>2888</td>\n",
              "      <td>1.67</td>\n",
              "    </tr>\n",
              "  </tbody>\n",
              "</table>\n",
              "</div>"
            ],
            "text/plain": [
              "            # nulos  % Nulos\n",
              "SEMAGESTAC      585     0.34\n",
              "APGAR1          562     0.33\n",
              "APGAR5          519     0.30\n",
              "IDADEMAE          0     0.00\n",
              "LOCNASC           4     0.00\n",
              "CONSULTAS         0     0.00\n",
              "QTDFILMORT     2888     1.67"
            ]
          },
          "metadata": {
            "tags": []
          },
          "execution_count": 10
        }
      ]
    },
    {
      "cell_type": "code",
      "metadata": {
        "id": "ek1YYSVIegJX",
        "colab_type": "code",
        "colab": {}
      },
      "source": [
        "# Exclusão das linhas com valores nulos\n",
        "base_inicial = len(dados) #Verificando o número de linhas da base inicial\n",
        "dados.dropna(axis=0, inplace=True)\n",
        "dados.reset_index(drop=True,inplace=True)"
      ],
      "execution_count": 0,
      "outputs": []
    },
    {
      "cell_type": "code",
      "metadata": {
        "id": "lBFo8OD5ceub",
        "colab_type": "code",
        "colab": {}
      },
      "source": [
        "# Criação da Flag de filhos mortos\n",
        "dados[\"FLAG_FILHOS_MORTOS\"] = [1 if i>=1 else 0 for i in dados[\"QTDFILMORT\"]]"
      ],
      "execution_count": 0,
      "outputs": []
    },
    {
      "cell_type": "code",
      "metadata": {
        "id": "XLSQfq3zOzTG",
        "colab_type": "code",
        "colab": {}
      },
      "source": [
        "# Criação da Categoria CICLO_DE_VIDA\n",
        "faixas = [\"-18]\",\"]18 ; 34]\",\"]34 ; 39]\",\"]39 ; 40]\",\"]40+\"]\n",
        "idades = [0,18,34,39,40,45]\n",
        "dados[\"CICLO_DE_VIDA\"] = pd.cut(dados[\"IDADEMAE\"], bins=idades, labels=faixas)"
      ],
      "execution_count": 0,
      "outputs": []
    },
    {
      "cell_type": "code",
      "metadata": {
        "id": "_RR_NeXBq-Jv",
        "colab_type": "code",
        "outputId": "6d5f1b1e-e301-4b79-f283-62b81b32552f",
        "colab": {
          "base_uri": "https://localhost:8080/",
          "height": 204
        }
      },
      "source": [
        "# Print dos novos dados\n",
        "dados.head()"
      ],
      "execution_count": 0,
      "outputs": [
        {
          "output_type": "execute_result",
          "data": {
            "text/html": [
              "<div>\n",
              "<style scoped>\n",
              "    .dataframe tbody tr th:only-of-type {\n",
              "        vertical-align: middle;\n",
              "    }\n",
              "\n",
              "    .dataframe tbody tr th {\n",
              "        vertical-align: top;\n",
              "    }\n",
              "\n",
              "    .dataframe thead th {\n",
              "        text-align: right;\n",
              "    }\n",
              "</style>\n",
              "<table border=\"1\" class=\"dataframe\">\n",
              "  <thead>\n",
              "    <tr style=\"text-align: right;\">\n",
              "      <th></th>\n",
              "      <th>SEMAGESTAC</th>\n",
              "      <th>APGAR1</th>\n",
              "      <th>APGAR5</th>\n",
              "      <th>IDADEMAE</th>\n",
              "      <th>LOCNASC</th>\n",
              "      <th>CONSULTAS</th>\n",
              "      <th>QTDFILMORT</th>\n",
              "      <th>FLAG_FILHOS_MORTOS</th>\n",
              "      <th>CICLO_DE_VIDA</th>\n",
              "    </tr>\n",
              "  </thead>\n",
              "  <tbody>\n",
              "    <tr>\n",
              "      <th>0</th>\n",
              "      <td>32.0</td>\n",
              "      <td>8.0</td>\n",
              "      <td>10.0</td>\n",
              "      <td>13</td>\n",
              "      <td>Hospital</td>\n",
              "      <td>2</td>\n",
              "      <td>0.0</td>\n",
              "      <td>0</td>\n",
              "      <td>-18]</td>\n",
              "    </tr>\n",
              "    <tr>\n",
              "      <th>1</th>\n",
              "      <td>39.0</td>\n",
              "      <td>9.0</td>\n",
              "      <td>10.0</td>\n",
              "      <td>17</td>\n",
              "      <td>Hospital</td>\n",
              "      <td>4</td>\n",
              "      <td>0.0</td>\n",
              "      <td>0</td>\n",
              "      <td>-18]</td>\n",
              "    </tr>\n",
              "    <tr>\n",
              "      <th>2</th>\n",
              "      <td>38.0</td>\n",
              "      <td>9.0</td>\n",
              "      <td>10.0</td>\n",
              "      <td>19</td>\n",
              "      <td>Hospital</td>\n",
              "      <td>3</td>\n",
              "      <td>0.0</td>\n",
              "      <td>0</td>\n",
              "      <td>]18 ; 34]</td>\n",
              "    </tr>\n",
              "    <tr>\n",
              "      <th>3</th>\n",
              "      <td>41.0</td>\n",
              "      <td>10.0</td>\n",
              "      <td>10.0</td>\n",
              "      <td>24</td>\n",
              "      <td>Hospital</td>\n",
              "      <td>4</td>\n",
              "      <td>0.0</td>\n",
              "      <td>0</td>\n",
              "      <td>]18 ; 34]</td>\n",
              "    </tr>\n",
              "    <tr>\n",
              "      <th>4</th>\n",
              "      <td>39.0</td>\n",
              "      <td>9.0</td>\n",
              "      <td>10.0</td>\n",
              "      <td>19</td>\n",
              "      <td>Hospital</td>\n",
              "      <td>4</td>\n",
              "      <td>0.0</td>\n",
              "      <td>0</td>\n",
              "      <td>]18 ; 34]</td>\n",
              "    </tr>\n",
              "  </tbody>\n",
              "</table>\n",
              "</div>"
            ],
            "text/plain": [
              "   SEMAGESTAC  APGAR1  APGAR5  ...  QTDFILMORT FLAG_FILHOS_MORTOS  CICLO_DE_VIDA\n",
              "0        32.0     8.0    10.0  ...         0.0                  0           -18]\n",
              "1        39.0     9.0    10.0  ...         0.0                  0           -18]\n",
              "2        38.0     9.0    10.0  ...         0.0                  0      ]18 ; 34]\n",
              "3        41.0    10.0    10.0  ...         0.0                  0      ]18 ; 34]\n",
              "4        39.0     9.0    10.0  ...         0.0                  0      ]18 ; 34]\n",
              "\n",
              "[5 rows x 9 columns]"
            ]
          },
          "metadata": {
            "tags": []
          },
          "execution_count": 14
        }
      ]
    },
    {
      "cell_type": "markdown",
      "metadata": {
        "id": "7n2HiNE3mRPA",
        "colab_type": "text"
      },
      "source": [
        "## 2.4) Análise Univariada dos dados"
      ]
    },
    {
      "cell_type": "markdown",
      "metadata": {
        "id": "lu6crCWWmjz2",
        "colab_type": "text"
      },
      "source": [
        "#### 2.4.1) **SEMAGESTAC**: Semanas de gestação\n",
        "\n",
        "A partir dos gráficos de Histograma e Boxplot verifica-se que a maior concentração dados ocorre na faixa entre 35 e 40 semanas.\n",
        "\n",
        "Percebe-se também, a incidência de alguns valores atípicos, configurando semanas gestacionais maiores que 40 e menores de 30."
      ]
    },
    {
      "cell_type": "code",
      "metadata": {
        "id": "arsKNo5HmfM6",
        "colab_type": "code",
        "outputId": "d35c6c87-75e1-4903-8035-a47e86ffde63",
        "colab": {
          "base_uri": "https://localhost:8080/",
          "height": 355
        }
      },
      "source": [
        "fig, axs = plt.subplots(1,2, figsize=(10,5))\n",
        "sns.distplot(dados['SEMAGESTAC'], ax=axs[0]);axs[0].set_title('Histograma', fontsize=20);axs[0].set_xlabel('Semanas de Gestação')\n",
        "sns.boxplot(x='SEMAGESTAC', data=dados, ax=axs[1]);axs[1].set_title('Boxplot', fontsize=20);axs[1].set_xlabel('Semanas de Gestação')\n",
        "plt.show()"
      ],
      "execution_count": 0,
      "outputs": [
        {
          "output_type": "display_data",
          "data": {
            "image/png": "[encoded data removed]",
            "text/plain": [
              "<Figure size 720x360 with 2 Axes>"
            ]
          },
          "metadata": {
            "tags": []
          }
        }
      ]
    },
    {
      "cell_type": "markdown",
      "metadata": {
        "id": "ukg6bg4vr7nl",
        "colab_type": "text"
      },
      "source": [
        "#### 2.4.2) **APGAR1**: Apgar mensurado no primeiro minuto de vida do recém nascido\n",
        "\n",
        "Com base no histograma apresentado a seguir, verifica-se a ocorrência de valores de A**PGAR1** superior a 10. Com base na documentação apresentada, essas medidas não ultrapassam o valor 10. Sendo assim, foi aplicado um filtro nos dados para retirar as instâncias amostrais com **APGAR1** superior a 10."
      ]
    },
    {
      "cell_type": "code",
      "metadata": {
        "id": "MhNYxdyWsDPy",
        "colab_type": "code",
        "outputId": "ad77ca41-8da6-496f-c6c3-e7e8826a3db1",
        "colab": {
          "base_uri": "https://localhost:8080/",
          "height": 355
        }
      },
      "source": [
        "fig, axs = plt.subplots(1,2, figsize=(10,5))\n",
        "sns.distplot(dados['APGAR1'], ax=axs[0]);axs[0].set_title('Histograma', fontsize=20);axs[0].set_xlabel(\"APGAR no 1'\")\n",
        "sns.boxplot(x='APGAR1', data=dados, ax=axs[1]);axs[1].set_title('Boxplot', fontsize=20);axs[1].set_xlabel(\"APGAR no 1'\")\n",
        "plt.show()"
      ],
      "execution_count": 0,
      "outputs": [
        {
          "output_type": "display_data",
          "data": {
            "image/png": "[encoded data removed]",
            "text/plain": [
              "<Figure size 720x360 with 2 Axes>"
            ]
          },
          "metadata": {
            "tags": []
          }
        }
      ]
    },
    {
      "cell_type": "markdown",
      "metadata": {
        "id": "sOYEf_nOtqEq",
        "colab_type": "text"
      },
      "source": [
        "**Avaliação dos dados com APGAR1 maior que 10**\n",
        "\n",
        "A partir da função *describe()* verifica-se que existem 121 instâncias amostras com valor de **APGAR1** superior a 10. Esses dados foram excluídos da análise."
      ]
    },
    {
      "cell_type": "code",
      "metadata": {
        "id": "Im9iv5IJtDvw",
        "colab_type": "code",
        "outputId": "2ece6ea3-460f-4088-bba2-623db5e20b8b",
        "colab": {
          "base_uri": "https://localhost:8080/",
          "height": 297
        }
      },
      "source": [
        "dados[dados[\"APGAR1\"]>10].describe()"
      ],
      "execution_count": 0,
      "outputs": [
        {
          "output_type": "execute_result",
          "data": {
            "text/html": [
              "<div>\n",
              "<style scoped>\n",
              "    .dataframe tbody tr th:only-of-type {\n",
              "        vertical-align: middle;\n",
              "    }\n",
              "\n",
              "    .dataframe tbody tr th {\n",
              "        vertical-align: top;\n",
              "    }\n",
              "\n",
              "    .dataframe thead th {\n",
              "        text-align: right;\n",
              "    }\n",
              "</style>\n",
              "<table border=\"1\" class=\"dataframe\">\n",
              "  <thead>\n",
              "    <tr style=\"text-align: right;\">\n",
              "      <th></th>\n",
              "      <th>SEMAGESTAC</th>\n",
              "      <th>APGAR1</th>\n",
              "      <th>APGAR5</th>\n",
              "      <th>IDADEMAE</th>\n",
              "      <th>CONSULTAS</th>\n",
              "      <th>QTDFILMORT</th>\n",
              "      <th>FLAG_FILHOS_MORTOS</th>\n",
              "    </tr>\n",
              "  </thead>\n",
              "  <tbody>\n",
              "    <tr>\n",
              "      <th>count</th>\n",
              "      <td>121.000000</td>\n",
              "      <td>121.0</td>\n",
              "      <td>121.000000</td>\n",
              "      <td>121.000000</td>\n",
              "      <td>121.000000</td>\n",
              "      <td>121.000000</td>\n",
              "      <td>121.000000</td>\n",
              "    </tr>\n",
              "    <tr>\n",
              "      <th>mean</th>\n",
              "      <td>35.528926</td>\n",
              "      <td>99.0</td>\n",
              "      <td>87.842975</td>\n",
              "      <td>26.950413</td>\n",
              "      <td>3.876033</td>\n",
              "      <td>0.380165</td>\n",
              "      <td>0.239669</td>\n",
              "    </tr>\n",
              "    <tr>\n",
              "      <th>std</th>\n",
              "      <td>5.267945</td>\n",
              "      <td>0.0</td>\n",
              "      <td>29.785345</td>\n",
              "      <td>6.430204</td>\n",
              "      <td>2.170139</td>\n",
              "      <td>0.829218</td>\n",
              "      <td>0.428657</td>\n",
              "    </tr>\n",
              "    <tr>\n",
              "      <th>min</th>\n",
              "      <td>19.000000</td>\n",
              "      <td>99.0</td>\n",
              "      <td>5.000000</td>\n",
              "      <td>15.000000</td>\n",
              "      <td>1.000000</td>\n",
              "      <td>0.000000</td>\n",
              "      <td>0.000000</td>\n",
              "    </tr>\n",
              "    <tr>\n",
              "      <th>25%</th>\n",
              "      <td>31.000000</td>\n",
              "      <td>99.0</td>\n",
              "      <td>99.000000</td>\n",
              "      <td>22.000000</td>\n",
              "      <td>3.000000</td>\n",
              "      <td>0.000000</td>\n",
              "      <td>0.000000</td>\n",
              "    </tr>\n",
              "    <tr>\n",
              "      <th>50%</th>\n",
              "      <td>38.000000</td>\n",
              "      <td>99.0</td>\n",
              "      <td>99.000000</td>\n",
              "      <td>28.000000</td>\n",
              "      <td>3.000000</td>\n",
              "      <td>0.000000</td>\n",
              "      <td>0.000000</td>\n",
              "    </tr>\n",
              "    <tr>\n",
              "      <th>75%</th>\n",
              "      <td>39.000000</td>\n",
              "      <td>99.0</td>\n",
              "      <td>99.000000</td>\n",
              "      <td>31.000000</td>\n",
              "      <td>4.000000</td>\n",
              "      <td>0.000000</td>\n",
              "      <td>0.000000</td>\n",
              "    </tr>\n",
              "    <tr>\n",
              "      <th>max</th>\n",
              "      <td>45.000000</td>\n",
              "      <td>99.0</td>\n",
              "      <td>99.000000</td>\n",
              "      <td>42.000000</td>\n",
              "      <td>9.000000</td>\n",
              "      <td>5.000000</td>\n",
              "      <td>1.000000</td>\n",
              "    </tr>\n",
              "  </tbody>\n",
              "</table>\n",
              "</div>"
            ],
            "text/plain": [
              "       SEMAGESTAC  APGAR1  ...  QTDFILMORT  FLAG_FILHOS_MORTOS\n",
              "count  121.000000   121.0  ...  121.000000          121.000000\n",
              "mean    35.528926    99.0  ...    0.380165            0.239669\n",
              "std      5.267945     0.0  ...    0.829218            0.428657\n",
              "min     19.000000    99.0  ...    0.000000            0.000000\n",
              "25%     31.000000    99.0  ...    0.000000            0.000000\n",
              "50%     38.000000    99.0  ...    0.000000            0.000000\n",
              "75%     39.000000    99.0  ...    0.000000            0.000000\n",
              "max     45.000000    99.0  ...    5.000000            1.000000\n",
              "\n",
              "[8 rows x 7 columns]"
            ]
          },
          "metadata": {
            "tags": []
          },
          "execution_count": 17
        }
      ]
    },
    {
      "cell_type": "code",
      "metadata": {
        "id": "65R3X9FFt0OQ",
        "colab_type": "code",
        "outputId": "7a15feff-b905-40e2-c573-ec430bbebd74",
        "colab": {
          "base_uri": "https://localhost:8080/",
          "height": 142
        }
      },
      "source": [
        "# Excluindo dados com APGAR1 maior que 10\n",
        "dados_pos_APGAR1 = dados[dados[\"APGAR1\"]<=10]\n",
        "descricao_dos_filtros = [\"Base Total\", \"Sem nulos\", \"APGAR1 <= 10\"]\n",
        "volume_das_bases = [base_inicial, len(dados), len(dados_pos_APGAR1)]\n",
        "pd.DataFrame({\"# de linhas\":volume_das_bases,\"% de linhas\":np.array(volume_das_bases)/base_inicial}, index=descricao_dos_filtros)"
      ],
      "execution_count": 0,
      "outputs": [
        {
          "output_type": "execute_result",
          "data": {
            "text/html": [
              "<div>\n",
              "<style scoped>\n",
              "    .dataframe tbody tr th:only-of-type {\n",
              "        vertical-align: middle;\n",
              "    }\n",
              "\n",
              "    .dataframe tbody tr th {\n",
              "        vertical-align: top;\n",
              "    }\n",
              "\n",
              "    .dataframe thead th {\n",
              "        text-align: right;\n",
              "    }\n",
              "</style>\n",
              "<table border=\"1\" class=\"dataframe\">\n",
              "  <thead>\n",
              "    <tr style=\"text-align: right;\">\n",
              "      <th></th>\n",
              "      <th># de linhas</th>\n",
              "      <th>% de linhas</th>\n",
              "    </tr>\n",
              "  </thead>\n",
              "  <tbody>\n",
              "    <tr>\n",
              "      <th>Base Total</th>\n",
              "      <td>172490</td>\n",
              "      <td>1.000000</td>\n",
              "    </tr>\n",
              "    <tr>\n",
              "      <th>Sem nulos</th>\n",
              "      <td>168579</td>\n",
              "      <td>0.977326</td>\n",
              "    </tr>\n",
              "    <tr>\n",
              "      <th>APGAR1 &lt;= 10</th>\n",
              "      <td>168458</td>\n",
              "      <td>0.976625</td>\n",
              "    </tr>\n",
              "  </tbody>\n",
              "</table>\n",
              "</div>"
            ],
            "text/plain": [
              "              # de linhas  % de linhas\n",
              "Base Total         172490     1.000000\n",
              "Sem nulos          168579     0.977326\n",
              "APGAR1 <= 10       168458     0.976625"
            ]
          },
          "metadata": {
            "tags": []
          },
          "execution_count": 18
        }
      ]
    },
    {
      "cell_type": "markdown",
      "metadata": {
        "id": "UO0MFdhj2Lh0",
        "colab_type": "text"
      },
      "source": [
        "**Avaliando os dados de APGAR1 da base filtrada**\n",
        "\n",
        "APós a exclusão dos casos com **APGAR1** superior a 10, é possível ver a distribuição dos dados com maior clareza.\n",
        "\n",
        "A maioria dos valores mensurados se concentram entre 8 e 10, configurando valores saudáveis de APGAR1. As crianças que apresentaram medidas inferiores a 6 são consideradas atípicas e apresentam dificuldade respiratória."
      ]
    },
    {
      "cell_type": "code",
      "metadata": {
        "id": "GuiN0y0v2K-b",
        "colab_type": "code",
        "outputId": "fb09187c-65a3-4a21-c01a-3a7f1a7eeb6a",
        "colab": {
          "base_uri": "https://localhost:8080/",
          "height": 355
        }
      },
      "source": [
        "fig, axs = plt.subplots(1,2, figsize=(10,5))\n",
        "sns.distplot(dados_pos_APGAR1['APGAR1'], ax=axs[0]);axs[0].set_title('Histograma', fontsize=20);axs[0].set_xlabel(\"APGAR no 1'\")\n",
        "sns.boxplot(x='APGAR1', data=dados_pos_APGAR1, ax=axs[1]);axs[1].set_title('Boxplot', fontsize=20);axs[1].set_xlabel(\"APGAR no 1'\")\n",
        "plt.show()"
      ],
      "execution_count": 0,
      "outputs": [
        {
          "output_type": "display_data",
          "data": {
            "image/png": "[encoded data removed]",
            "text/plain": [
              "<Figure size 720x360 with 2 Axes>"
            ]
          },
          "metadata": {
            "tags": []
          }
        }
      ]
    },
    {
      "cell_type": "markdown",
      "metadata": {
        "id": "XFTMLSJLsVdD",
        "colab_type": "text"
      },
      "source": [
        "#### 2.4.3) **APGAR5**: Apgar mensurado no quinto minuto de vida do recém \n",
        "\n",
        "O mesmo tipo de observação atípica encontrada na análise do **APGAR1** foi verificada para o **APGAR5**.\n",
        "\n",
        "Antes de fazer qualquer tipo de avaliação dos dados, foram excluídas as linhas com valores de **APGAR5** que superavam o valor 10."
      ]
    },
    {
      "cell_type": "code",
      "metadata": {
        "id": "syA2MGi7sYal",
        "colab_type": "code",
        "outputId": "481378f8-07b5-4a01-f9c8-38c5e7c64900",
        "colab": {
          "base_uri": "https://localhost:8080/",
          "height": 355
        }
      },
      "source": [
        "fig, axs = plt.subplots(1,2, figsize=(10,5))\n",
        "sns.distplot(dados_pos_APGAR1['APGAR5'], ax=axs[0]);axs[0].set_title('Histograma', fontsize=20);axs[0].set_xlabel(\"APGAR no 5'\")\n",
        "sns.boxplot(x='APGAR5', data=dados_pos_APGAR1, ax=axs[1]);axs[1].set_title('Boxplot', fontsize=20);axs[1].set_xlabel(\"APGAR no 5'\")\n",
        "plt.show()"
      ],
      "execution_count": 0,
      "outputs": [
        {
          "output_type": "display_data",
          "data": {
            "image/png": "[encoded data removed]",
            "text/plain": [
              "<Figure size 720x360 with 2 Axes>"
            ]
          },
          "metadata": {
            "tags": []
          }
        }
      ]
    },
    {
      "cell_type": "markdown",
      "metadata": {
        "id": "DQEXwxGb2zEA",
        "colab_type": "text"
      },
      "source": [
        "**Avaliação dos dados com APGAR5 > 10**\n",
        "\n",
        "Apenas uma instância amostral apresentou **APGAR5** superior a 10."
      ]
    },
    {
      "cell_type": "code",
      "metadata": {
        "id": "70ypOnET234Z",
        "colab_type": "code",
        "outputId": "bbbe969d-ab29-4dcf-ea5c-c9b058603bd2",
        "colab": {
          "base_uri": "https://localhost:8080/",
          "height": 297
        }
      },
      "source": [
        "dados_pos_APGAR1[dados_pos_APGAR1[\"APGAR5\"]>10].describe()"
      ],
      "execution_count": 0,
      "outputs": [
        {
          "output_type": "execute_result",
          "data": {
            "text/html": [
              "<div>\n",
              "<style scoped>\n",
              "    .dataframe tbody tr th:only-of-type {\n",
              "        vertical-align: middle;\n",
              "    }\n",
              "\n",
              "    .dataframe tbody tr th {\n",
              "        vertical-align: top;\n",
              "    }\n",
              "\n",
              "    .dataframe thead th {\n",
              "        text-align: right;\n",
              "    }\n",
              "</style>\n",
              "<table border=\"1\" class=\"dataframe\">\n",
              "  <thead>\n",
              "    <tr style=\"text-align: right;\">\n",
              "      <th></th>\n",
              "      <th>SEMAGESTAC</th>\n",
              "      <th>APGAR1</th>\n",
              "      <th>APGAR5</th>\n",
              "      <th>IDADEMAE</th>\n",
              "      <th>CONSULTAS</th>\n",
              "      <th>QTDFILMORT</th>\n",
              "      <th>FLAG_FILHOS_MORTOS</th>\n",
              "    </tr>\n",
              "  </thead>\n",
              "  <tbody>\n",
              "    <tr>\n",
              "      <th>count</th>\n",
              "      <td>1.0</td>\n",
              "      <td>1.0</td>\n",
              "      <td>1.0</td>\n",
              "      <td>1.0</td>\n",
              "      <td>1.0</td>\n",
              "      <td>1.0</td>\n",
              "      <td>1.0</td>\n",
              "    </tr>\n",
              "    <tr>\n",
              "      <th>mean</th>\n",
              "      <td>40.0</td>\n",
              "      <td>9.0</td>\n",
              "      <td>99.0</td>\n",
              "      <td>20.0</td>\n",
              "      <td>4.0</td>\n",
              "      <td>0.0</td>\n",
              "      <td>0.0</td>\n",
              "    </tr>\n",
              "    <tr>\n",
              "      <th>std</th>\n",
              "      <td>NaN</td>\n",
              "      <td>NaN</td>\n",
              "      <td>NaN</td>\n",
              "      <td>NaN</td>\n",
              "      <td>NaN</td>\n",
              "      <td>NaN</td>\n",
              "      <td>NaN</td>\n",
              "    </tr>\n",
              "    <tr>\n",
              "      <th>min</th>\n",
              "      <td>40.0</td>\n",
              "      <td>9.0</td>\n",
              "      <td>99.0</td>\n",
              "      <td>20.0</td>\n",
              "      <td>4.0</td>\n",
              "      <td>0.0</td>\n",
              "      <td>0.0</td>\n",
              "    </tr>\n",
              "    <tr>\n",
              "      <th>25%</th>\n",
              "      <td>40.0</td>\n",
              "      <td>9.0</td>\n",
              "      <td>99.0</td>\n",
              "      <td>20.0</td>\n",
              "      <td>4.0</td>\n",
              "      <td>0.0</td>\n",
              "      <td>0.0</td>\n",
              "    </tr>\n",
              "    <tr>\n",
              "      <th>50%</th>\n",
              "      <td>40.0</td>\n",
              "      <td>9.0</td>\n",
              "      <td>99.0</td>\n",
              "      <td>20.0</td>\n",
              "      <td>4.0</td>\n",
              "      <td>0.0</td>\n",
              "      <td>0.0</td>\n",
              "    </tr>\n",
              "    <tr>\n",
              "      <th>75%</th>\n",
              "      <td>40.0</td>\n",
              "      <td>9.0</td>\n",
              "      <td>99.0</td>\n",
              "      <td>20.0</td>\n",
              "      <td>4.0</td>\n",
              "      <td>0.0</td>\n",
              "      <td>0.0</td>\n",
              "    </tr>\n",
              "    <tr>\n",
              "      <th>max</th>\n",
              "      <td>40.0</td>\n",
              "      <td>9.0</td>\n",
              "      <td>99.0</td>\n",
              "      <td>20.0</td>\n",
              "      <td>4.0</td>\n",
              "      <td>0.0</td>\n",
              "      <td>0.0</td>\n",
              "    </tr>\n",
              "  </tbody>\n",
              "</table>\n",
              "</div>"
            ],
            "text/plain": [
              "       SEMAGESTAC  APGAR1  APGAR5  ...  CONSULTAS  QTDFILMORT  FLAG_FILHOS_MORTOS\n",
              "count         1.0     1.0     1.0  ...        1.0         1.0                 1.0\n",
              "mean         40.0     9.0    99.0  ...        4.0         0.0                 0.0\n",
              "std           NaN     NaN     NaN  ...        NaN         NaN                 NaN\n",
              "min          40.0     9.0    99.0  ...        4.0         0.0                 0.0\n",
              "25%          40.0     9.0    99.0  ...        4.0         0.0                 0.0\n",
              "50%          40.0     9.0    99.0  ...        4.0         0.0                 0.0\n",
              "75%          40.0     9.0    99.0  ...        4.0         0.0                 0.0\n",
              "max          40.0     9.0    99.0  ...        4.0         0.0                 0.0\n",
              "\n",
              "[8 rows x 7 columns]"
            ]
          },
          "metadata": {
            "tags": []
          },
          "execution_count": 21
        }
      ]
    },
    {
      "cell_type": "code",
      "metadata": {
        "id": "e_UFuYGq2gGz",
        "colab_type": "code",
        "outputId": "03721465-9b56-4a4e-9a77-db5e993f9b0b",
        "colab": {
          "base_uri": "https://localhost:8080/",
          "height": 173
        }
      },
      "source": [
        "# Excluindo dados com APGAR1 maior que 10\n",
        "dados_pos_APGAR5 = dados_pos_APGAR1[dados_pos_APGAR1[\"APGAR5\"]<=10]\n",
        "descricao_dos_filtros = [\"Base Total\", \"Sem nulos\", \"APGAR1 <= 10\", \"APGAR5 <= 10\"]\n",
        "volume_das_bases = [base_inicial, len(dados), len(dados_pos_APGAR1), len(dados_pos_APGAR5)]\n",
        "pd.DataFrame({\"# de linhas\":volume_das_bases,\"% de linhas\":np.array(volume_das_bases)/base_inicial}, index=descricao_dos_filtros)"
      ],
      "execution_count": 0,
      "outputs": [
        {
          "output_type": "execute_result",
          "data": {
            "text/html": [
              "<div>\n",
              "<style scoped>\n",
              "    .dataframe tbody tr th:only-of-type {\n",
              "        vertical-align: middle;\n",
              "    }\n",
              "\n",
              "    .dataframe tbody tr th {\n",
              "        vertical-align: top;\n",
              "    }\n",
              "\n",
              "    .dataframe thead th {\n",
              "        text-align: right;\n",
              "    }\n",
              "</style>\n",
              "<table border=\"1\" class=\"dataframe\">\n",
              "  <thead>\n",
              "    <tr style=\"text-align: right;\">\n",
              "      <th></th>\n",
              "      <th># de linhas</th>\n",
              "      <th>% de linhas</th>\n",
              "    </tr>\n",
              "  </thead>\n",
              "  <tbody>\n",
              "    <tr>\n",
              "      <th>Base Total</th>\n",
              "      <td>172490</td>\n",
              "      <td>1.000000</td>\n",
              "    </tr>\n",
              "    <tr>\n",
              "      <th>Sem nulos</th>\n",
              "      <td>168579</td>\n",
              "      <td>0.977326</td>\n",
              "    </tr>\n",
              "    <tr>\n",
              "      <th>APGAR1 &lt;= 10</th>\n",
              "      <td>168458</td>\n",
              "      <td>0.976625</td>\n",
              "    </tr>\n",
              "    <tr>\n",
              "      <th>APGAR5 &lt;= 10</th>\n",
              "      <td>168457</td>\n",
              "      <td>0.976619</td>\n",
              "    </tr>\n",
              "  </tbody>\n",
              "</table>\n",
              "</div>"
            ],
            "text/plain": [
              "              # de linhas  % de linhas\n",
              "Base Total         172490     1.000000\n",
              "Sem nulos          168579     0.977326\n",
              "APGAR1 <= 10       168458     0.976625\n",
              "APGAR5 <= 10       168457     0.976619"
            ]
          },
          "metadata": {
            "tags": []
          },
          "execution_count": 22
        }
      ]
    },
    {
      "cell_type": "markdown",
      "metadata": {
        "id": "wW1psFlC3DLL",
        "colab_type": "text"
      },
      "source": [
        "**Avaliando os dados filtrados**\n",
        "\n",
        "Ao final da filtragem dos dados de **APGAR1** e **APGAR5**,  restaram 168.457 registros de um total de 172.490, representando uma redução de cerca de 2,4%\n",
        "\n",
        "Avaliando os dados de **APGAR5** após a remoção dos valores inconsistêntes, verifica-se que grande parte da concentração dos dados está acima de 8, o que indica valores saudáveis de **APGAR**."
      ]
    },
    {
      "cell_type": "code",
      "metadata": {
        "id": "ck-WH1JU3Fhv",
        "colab_type": "code",
        "outputId": "c9deac0b-bf25-4226-dba1-5269c6b93201",
        "colab": {
          "base_uri": "https://localhost:8080/",
          "height": 355
        }
      },
      "source": [
        "fig, axs = plt.subplots(1,2, figsize=(10,5))\n",
        "sns.distplot(dados_pos_APGAR5['APGAR5'], ax=axs[0]);axs[0].set_title('Histograma', fontsize=20);axs[0].set_xlabel(\"APGAR no 5'\")\n",
        "sns.boxplot(x='APGAR5', data=dados_pos_APGAR5, ax=axs[1]);axs[1].set_title('Boxplot', fontsize=20);axs[1].set_xlabel(\"APGAR no 5'\")\n",
        "plt.show()"
      ],
      "execution_count": 0,
      "outputs": [
        {
          "output_type": "display_data",
          "data": {
            "image/png": "[encoded data removed]",
            "text/plain": [
              "<Figure size 720x360 with 2 Axes>"
            ]
          },
          "metadata": {
            "tags": []
          }
        }
      ]
    },
    {
      "cell_type": "markdown",
      "metadata": {
        "id": "obOQDzPA3J_9",
        "colab_type": "text"
      },
      "source": [
        "#### 2.4.4) **IDADEMAE**: Idade da mãe\n",
        "\n",
        "Com base na curva de densidade e boxplot, percebe-se que grande parte das mães apresentam idades entre 20 e 35 anos. O primeiro gráfico dá sugestões de que os dados configuram uma distribuição normal. O segundo mostra alguns valores atípicos, de mulheres com idades avançadas."
      ]
    },
    {
      "cell_type": "code",
      "metadata": {
        "id": "m8zps7rw3KKP",
        "colab_type": "code",
        "outputId": "fe2b3a6f-4975-441a-b234-57bf3d27d81e",
        "colab": {
          "base_uri": "https://localhost:8080/",
          "height": 355
        }
      },
      "source": [
        "fig, axs = plt.subplots(1,2, figsize=(10,5))\n",
        "sns.distplot(dados_pos_APGAR5['IDADEMAE'], ax=axs[0]);axs[0].set_title('Histograma', fontsize=20);axs[0].set_xlabel(\"Idade da Mãe\")\n",
        "sns.boxplot(x='IDADEMAE', data=dados_pos_APGAR5, ax=axs[1]);axs[1].set_title('Boxplot', fontsize=20);axs[1].set_xlabel(\"Idade da Mãe\")\n",
        "plt.show()"
      ],
      "execution_count": 0,
      "outputs": [
        {
          "output_type": "display_data",
          "data": {
            "image/png": "[encoded data removed]",
            "text/plain": [
              "<Figure size 720x360 with 2 Axes>"
            ]
          },
          "metadata": {
            "tags": []
          }
        }
      ]
    },
    {
      "cell_type": "markdown",
      "metadata": {
        "id": "7Qhnd5fU3cKT",
        "colab_type": "text"
      },
      "source": [
        "#### 2.4.5) **CONSULTAS**: Número de consultas Pré-natal\n",
        "\n",
        "Quando avaliamos os dados de Consultas pré-natal, percebe-se grande maioria das mães realizaram 4 consultas pré-natal. Esse valor é tão presente no conjunto de dados que não foi possível nem configurar o gráfico de boxplot. Devido a isso, mães com 1, 2, 3 ou 9 consultas pré-natal foram definidas como atípicas pelo gráfico."
      ]
    },
    {
      "cell_type": "code",
      "metadata": {
        "id": "Z2gs7_vK3cS2",
        "colab_type": "code",
        "outputId": "5a5ef3f8-5d64-4273-ce2c-78752399277f",
        "colab": {
          "base_uri": "https://localhost:8080/",
          "height": 355
        }
      },
      "source": [
        "fig, axs = plt.subplots(1,2, figsize=(10,5))\n",
        "sns.distplot(dados_pos_APGAR5['CONSULTAS'], ax=axs[0]);axs[0].set_title('Histograma', fontsize=20);axs[0].set_xlabel(\"Quantidade de Consultas pré-natal\")\n",
        "sns.boxplot(x='CONSULTAS', data=dados_pos_APGAR5, ax=axs[1]);axs[1].set_title('Boxplot', fontsize=20);axs[1].set_xlabel(\"Quantidade de Consultas pré-natal\")\n",
        "plt.show()"
      ],
      "execution_count": 0,
      "outputs": [
        {
          "output_type": "display_data",
          "data": {
            "image/png": "[encoded data removed]",
            "text/plain": [
              "<Figure size 720x360 with 2 Axes>"
            ]
          },
          "metadata": {
            "tags": []
          }
        }
      ]
    },
    {
      "cell_type": "markdown",
      "metadata": {
        "id": "UMEW3yjf3zEZ",
        "colab_type": "text"
      },
      "source": [
        "#### 2.4.6) **LOCNASC**: Local de Nascimento\n",
        "\n",
        "Para essa análise, foram utilizadas um gráfico e uma tabela. O gráfico de barras mostra imensa maioria dos nascimentos ocorreram no hospital. Tal fato pode ser confirmado nos números apresentados na tabela, na qual verifica-se que apenas 0,5% dos nascimentos não ocorreram no hospital"
      ]
    },
    {
      "cell_type": "code",
      "metadata": {
        "id": "MBywchlF3zOA",
        "colab_type": "code",
        "outputId": "f635fb61-42e4-444f-ff90-fadd54c58db8",
        "colab": {
          "base_uri": "https://localhost:8080/",
          "height": 204
        }
      },
      "source": [
        "tabela_agrupada_por_local_nasc = dados_pos_APGAR5.groupby(\"LOCNASC\").count()[\"FLAG_FILHOS_MORTOS\"]\n",
        "tabela_agrupada_por_local_nasc = pd.DataFrame(tabela_agrupada_por_local_nasc)\n",
        "tabela_agrupada_por_local_nasc['new'] = round(100*tabela_agrupada_por_local_nasc/len(dados_pos_APGAR5),2)\n",
        "tabela_agrupada_por_local_nasc.columns = ['Freq. Absoluta','Freq. Relativa']\n",
        "tabela_agrupada_por_local_nasc"
      ],
      "execution_count": 0,
      "outputs": [
        {
          "output_type": "execute_result",
          "data": {
            "text/html": [
              "<div>\n",
              "<style scoped>\n",
              "    .dataframe tbody tr th:only-of-type {\n",
              "        vertical-align: middle;\n",
              "    }\n",
              "\n",
              "    .dataframe tbody tr th {\n",
              "        vertical-align: top;\n",
              "    }\n",
              "\n",
              "    .dataframe thead th {\n",
              "        text-align: right;\n",
              "    }\n",
              "</style>\n",
              "<table border=\"1\" class=\"dataframe\">\n",
              "  <thead>\n",
              "    <tr style=\"text-align: right;\">\n",
              "      <th></th>\n",
              "      <th>Freq. Absoluta</th>\n",
              "      <th>Freq. Relativa</th>\n",
              "    </tr>\n",
              "    <tr>\n",
              "      <th>LOCNASC</th>\n",
              "      <th></th>\n",
              "      <th></th>\n",
              "    </tr>\n",
              "  </thead>\n",
              "  <tbody>\n",
              "    <tr>\n",
              "      <th>Domicílio</th>\n",
              "      <td>206</td>\n",
              "      <td>0.12</td>\n",
              "    </tr>\n",
              "    <tr>\n",
              "      <th>Hospital</th>\n",
              "      <td>167743</td>\n",
              "      <td>99.58</td>\n",
              "    </tr>\n",
              "    <tr>\n",
              "      <th>Outro Estabelecimento de Saúde</th>\n",
              "      <td>448</td>\n",
              "      <td>0.27</td>\n",
              "    </tr>\n",
              "    <tr>\n",
              "      <th>Outros</th>\n",
              "      <td>60</td>\n",
              "      <td>0.04</td>\n",
              "    </tr>\n",
              "  </tbody>\n",
              "</table>\n",
              "</div>"
            ],
            "text/plain": [
              "                                Freq. Absoluta  Freq. Relativa\n",
              "LOCNASC                                                       \n",
              "Domicílio                                  206            0.12\n",
              "Hospital                                167743           99.58\n",
              "Outro Estabelecimento de Saúde             448            0.27\n",
              "Outros                                      60            0.04"
            ]
          },
          "metadata": {
            "tags": []
          },
          "execution_count": 26
        }
      ]
    },
    {
      "cell_type": "code",
      "metadata": {
        "id": "_4s9tuYuDJSi",
        "colab_type": "code",
        "outputId": "7e9f0f31-6dc1-455b-e5e7-4a8b1f6897dc",
        "colab": {
          "base_uri": "https://localhost:8080/",
          "height": 284
        }
      },
      "source": [
        "height = tabela_agrupada_por_local_nasc[\"Freq. Relativa\"].values\n",
        "bars = tabela_agrupada_por_local_nasc.index\n",
        "plt.barh(np.arange(len(bars)), height)\n",
        "plt.yticks(np.arange(len(bars)), bars)\n",
        "plt.title('Gráfico de barras para o Local de Nascimento', fontsize=15)\n",
        "plt.show()"
      ],
      "execution_count": 0,
      "outputs": [
        {
          "output_type": "display_data",
          "data": {
            "image/png": "[encoded data removed]",
            "text/plain": [
              "<Figure size 432x288 with 1 Axes>"
            ]
          },
          "metadata": {
            "tags": []
          }
        }
      ]
    },
    {
      "cell_type": "markdown",
      "metadata": {
        "id": "Zl-31j-ImVGm",
        "colab_type": "text"
      },
      "source": [
        "###  2.4.7) **CICLO_DE_VIDA**: Ciclo de vida da mãe\n",
        "\n",
        "Conforme já avaliado nos gráficos de Idade da Mãe, a variável que agrupa as mães em faixas etária confirma que apenas 25% das mulheres não têm idade entre 18 e 34 anos"
      ]
    },
    {
      "cell_type": "code",
      "metadata": {
        "id": "9MV9wVuEmVR8",
        "colab_type": "code",
        "outputId": "5374452f-478b-4296-f5e6-b2f4ac8142af",
        "colab": {
          "base_uri": "https://localhost:8080/",
          "height": 235
        }
      },
      "source": [
        "tabela_agrupada_por_ciclo = dados_pos_APGAR5.groupby(\"CICLO_DE_VIDA\").count()[\"FLAG_FILHOS_MORTOS\"]\n",
        "tabela_agrupada_por_ciclo = pd.DataFrame(tabela_agrupada_por_ciclo)\n",
        "tabela_agrupada_por_ciclo['new'] = round(100*tabela_agrupada_por_ciclo/len(dados_pos_APGAR5),2)\n",
        "tabela_agrupada_por_ciclo.columns = ['Freq. Absoluta','Freq. Relativa']\n",
        "tabela_agrupada_por_ciclo"
      ],
      "execution_count": 0,
      "outputs": [
        {
          "output_type": "execute_result",
          "data": {
            "text/html": [
              "<div>\n",
              "<style scoped>\n",
              "    .dataframe tbody tr th:only-of-type {\n",
              "        vertical-align: middle;\n",
              "    }\n",
              "\n",
              "    .dataframe tbody tr th {\n",
              "        vertical-align: top;\n",
              "    }\n",
              "\n",
              "    .dataframe thead th {\n",
              "        text-align: right;\n",
              "    }\n",
              "</style>\n",
              "<table border=\"1\" class=\"dataframe\">\n",
              "  <thead>\n",
              "    <tr style=\"text-align: right;\">\n",
              "      <th></th>\n",
              "      <th>Freq. Absoluta</th>\n",
              "      <th>Freq. Relativa</th>\n",
              "    </tr>\n",
              "    <tr>\n",
              "      <th>CICLO_DE_VIDA</th>\n",
              "      <th></th>\n",
              "      <th></th>\n",
              "    </tr>\n",
              "  </thead>\n",
              "  <tbody>\n",
              "    <tr>\n",
              "      <th>-18]</th>\n",
              "      <td>15779</td>\n",
              "      <td>9.37</td>\n",
              "    </tr>\n",
              "    <tr>\n",
              "      <th>]18 ; 34]</th>\n",
              "      <td>126429</td>\n",
              "      <td>75.05</td>\n",
              "    </tr>\n",
              "    <tr>\n",
              "      <th>]34 ; 39]</th>\n",
              "      <td>21249</td>\n",
              "      <td>12.61</td>\n",
              "    </tr>\n",
              "    <tr>\n",
              "      <th>]39 ; 40]</th>\n",
              "      <td>1888</td>\n",
              "      <td>1.12</td>\n",
              "    </tr>\n",
              "    <tr>\n",
              "      <th>]40+</th>\n",
              "      <td>2989</td>\n",
              "      <td>1.77</td>\n",
              "    </tr>\n",
              "  </tbody>\n",
              "</table>\n",
              "</div>"
            ],
            "text/plain": [
              "               Freq. Absoluta  Freq. Relativa\n",
              "CICLO_DE_VIDA                                \n",
              "-18]                    15779            9.37\n",
              "]18 ; 34]              126429           75.05\n",
              "]34 ; 39]               21249           12.61\n",
              "]39 ; 40]                1888            1.12\n",
              "]40+                     2989            1.77"
            ]
          },
          "metadata": {
            "tags": []
          },
          "execution_count": 28
        }
      ]
    },
    {
      "cell_type": "code",
      "metadata": {
        "id": "RWY7WcrJmVbc",
        "colab_type": "code",
        "outputId": "1debaea6-4ed2-47fb-8186-d08b7dc11374",
        "colab": {
          "base_uri": "https://localhost:8080/",
          "height": 284
        }
      },
      "source": [
        "height = tabela_agrupada_por_ciclo[\"Freq. Relativa\"].values\n",
        "bars = tabela_agrupada_por_ciclo.index\n",
        "plt.barh(np.arange(len(bars)), height)\n",
        "plt.yticks(np.arange(len(bars)), bars)\n",
        "plt.title('Gráfico de barras para o Local de Nascimento', fontsize=15)\n",
        "plt.show()"
      ],
      "execution_count": 0,
      "outputs": [
        {
          "output_type": "display_data",
          "data": {
            "image/png": "[encoded data removed]",
            "text/plain": [
              "<Figure size 432x288 with 1 Axes>"
            ]
          },
          "metadata": {
            "tags": []
          }
        }
      ]
    },
    {
      "cell_type": "markdown",
      "metadata": {
        "id": "uADyAwSfD2YF",
        "colab_type": "text"
      },
      "source": [
        "### 2.4.8) **FLAG_FILHOS_MORTOS**: Volume de pacientes com ao menos 1 filho morto\n",
        "\n",
        "A criação da *flag* de filhos mortos tem como objetivo, a geração de um modelo de classificação mediante regressão logística para avaliar qual das variáveis até atqui descritas melhor explica a ocorrência de filhos mortos e o quanto as mesma podem ajudar a predição deste evento.\n",
        "\n",
        "Para este estudo, não foi utilizado o conceito de aprendizado de máquina. Logo, não a separação do conjunto de dados entre treinamento e teste, tampouco a técnica de balanceamento amostral para otimizar a estimativas dos *betas* da regressão. O objetivo da regressão foi o de, apenas, explorar o conjunto de dados.\n",
        "\n",
        "Avaliando a tabela e o gráfico a seguir, nota-se que 18% das mães tiveram ao menos um filho morto"
      ]
    },
    {
      "cell_type": "code",
      "metadata": {
        "id": "E_53-Dc3Eb7C",
        "colab_type": "code",
        "outputId": "91bae717-223b-4f78-d1eb-909b4a0a42d9",
        "colab": {
          "base_uri": "https://localhost:8080/",
          "height": 111
        }
      },
      "source": [
        "tabela_flag_filhos_mortos = dados_pos_APGAR5.groupby(\"FLAG_FILHOS_MORTOS\").count()['QTDFILMORT']\n",
        "tabela_flag_filhos_mortos = pd.DataFrame(tabela_flag_filhos_mortos)\n",
        "tabela_flag_filhos_mortos['new'] = round(100*tabela_flag_filhos_mortos/tabela_flag_filhos_mortos.sum(),2)\n",
        "tabela_flag_filhos_mortos.columns = ['Freq. Absoluta', 'Freq. Relativa']\n",
        "tabela_flag_filhos_mortos.index = ['Sem Filhos mortos', 'Ao menos 1 filho morto']\n",
        "tabela_flag_filhos_mortos"
      ],
      "execution_count": 0,
      "outputs": [
        {
          "output_type": "execute_result",
          "data": {
            "text/html": [
              "<div>\n",
              "<style scoped>\n",
              "    .dataframe tbody tr th:only-of-type {\n",
              "        vertical-align: middle;\n",
              "    }\n",
              "\n",
              "    .dataframe tbody tr th {\n",
              "        vertical-align: top;\n",
              "    }\n",
              "\n",
              "    .dataframe thead th {\n",
              "        text-align: right;\n",
              "    }\n",
              "</style>\n",
              "<table border=\"1\" class=\"dataframe\">\n",
              "  <thead>\n",
              "    <tr style=\"text-align: right;\">\n",
              "      <th></th>\n",
              "      <th>Freq. Absoluta</th>\n",
              "      <th>Freq. Relativa</th>\n",
              "    </tr>\n",
              "  </thead>\n",
              "  <tbody>\n",
              "    <tr>\n",
              "      <th>Sem Filhos mortos</th>\n",
              "      <td>138284</td>\n",
              "      <td>82.09</td>\n",
              "    </tr>\n",
              "    <tr>\n",
              "      <th>Ao menos 1 filho morto</th>\n",
              "      <td>30173</td>\n",
              "      <td>17.91</td>\n",
              "    </tr>\n",
              "  </tbody>\n",
              "</table>\n",
              "</div>"
            ],
            "text/plain": [
              "                        Freq. Absoluta  Freq. Relativa\n",
              "Sem Filhos mortos               138284           82.09\n",
              "Ao menos 1 filho morto           30173           17.91"
            ]
          },
          "metadata": {
            "tags": []
          },
          "execution_count": 30
        }
      ]
    },
    {
      "cell_type": "code",
      "metadata": {
        "id": "SEJaYXZiD2kn",
        "colab_type": "code",
        "outputId": "696e3f10-2539-47e2-a3ce-aecd72c8b0c5",
        "colab": {
          "base_uri": "https://localhost:8080/",
          "height": 284
        }
      },
      "source": [
        "height = tabela_flag_filhos_mortos[\"Freq. Relativa\"].values\n",
        "bars = tabela_flag_filhos_mortos.index\n",
        "plt.barh(np.arange(len(bars)), height)\n",
        "plt.yticks(np.arange(len(bars)), bars)\n",
        "plt.title('Gráfico de barras para a Flag de filhos Mortos', fontsize=15)\n",
        "plt.show()"
      ],
      "execution_count": 0,
      "outputs": [
        {
          "output_type": "display_data",
          "data": {
            "image/png": "[encoded data removed]",
            "text/plain": [
              "<Figure size 432x288 with 1 Axes>"
            ]
          },
          "metadata": {
            "tags": []
          }
        }
      ]
    },
    {
      "cell_type": "markdown",
      "metadata": {
        "id": "tWTOd8frHVPH",
        "colab_type": "text"
      },
      "source": [
        "### 2.4.9) Finalização da análise bivariada\n",
        "\n",
        "Nesta última etapa, foi instanciado um último objeto com os dados após todas as etapas de filtragem.\n",
        "\n",
        "Ao término dessa etapa de análise univariada, restaram 168.457 registros de um total de 172.490, configurando redução de 2.4%"
      ]
    },
    {
      "cell_type": "code",
      "metadata": {
        "id": "t_5dTcBEHdOT",
        "colab_type": "code",
        "outputId": "8d715941-6063-4162-84b5-eafa98944fae",
        "colab": {
          "base_uri": "https://localhost:8080/",
          "height": 173
        }
      },
      "source": [
        "pd.DataFrame({\"# de linhas\":volume_das_bases,\"% de linhas\":np.array(volume_das_bases)/base_inicial}, index=descricao_dos_filtros)"
      ],
      "execution_count": 0,
      "outputs": [
        {
          "output_type": "execute_result",
          "data": {
            "text/html": [
              "<div>\n",
              "<style scoped>\n",
              "    .dataframe tbody tr th:only-of-type {\n",
              "        vertical-align: middle;\n",
              "    }\n",
              "\n",
              "    .dataframe tbody tr th {\n",
              "        vertical-align: top;\n",
              "    }\n",
              "\n",
              "    .dataframe thead th {\n",
              "        text-align: right;\n",
              "    }\n",
              "</style>\n",
              "<table border=\"1\" class=\"dataframe\">\n",
              "  <thead>\n",
              "    <tr style=\"text-align: right;\">\n",
              "      <th></th>\n",
              "      <th># de linhas</th>\n",
              "      <th>% de linhas</th>\n",
              "    </tr>\n",
              "  </thead>\n",
              "  <tbody>\n",
              "    <tr>\n",
              "      <th>Base Total</th>\n",
              "      <td>172490</td>\n",
              "      <td>1.000000</td>\n",
              "    </tr>\n",
              "    <tr>\n",
              "      <th>Sem nulos</th>\n",
              "      <td>168579</td>\n",
              "      <td>0.977326</td>\n",
              "    </tr>\n",
              "    <tr>\n",
              "      <th>APGAR1 &lt;= 10</th>\n",
              "      <td>168458</td>\n",
              "      <td>0.976625</td>\n",
              "    </tr>\n",
              "    <tr>\n",
              "      <th>APGAR5 &lt;= 10</th>\n",
              "      <td>168457</td>\n",
              "      <td>0.976619</td>\n",
              "    </tr>\n",
              "  </tbody>\n",
              "</table>\n",
              "</div>"
            ],
            "text/plain": [
              "              # de linhas  % de linhas\n",
              "Base Total         172490     1.000000\n",
              "Sem nulos          168579     0.977326\n",
              "APGAR1 <= 10       168458     0.976625\n",
              "APGAR5 <= 10       168457     0.976619"
            ]
          },
          "metadata": {
            "tags": []
          },
          "execution_count": 32
        }
      ]
    },
    {
      "cell_type": "markdown",
      "metadata": {
        "id": "3Nd52c0hZT8N",
        "colab_type": "text"
      },
      "source": [
        "**Descrição da base final**\n",
        "A partir da função *describe()* verifica-se que as variáveis apresentam pouca amplitude interquartil. \n",
        "\n",
        "Para o Campo **CONSULTAS** pelo menos 50% das mulheres tiveram 4 consultas pré-natal. A maioria dos partos ocorreram nos hospitais e a maioria das mães estão na faixa entre 18 e 34 anos."
      ]
    },
    {
      "cell_type": "code",
      "metadata": {
        "id": "mcf8BGlHD_N7",
        "colab_type": "code",
        "outputId": "38863893-daf5-47ab-f24e-e5b8e2301591",
        "colab": {
          "base_uri": "https://localhost:8080/",
          "height": 390
        }
      },
      "source": [
        "# Instanciando o objeto final com o dados tratados\n",
        "dados_tratados = dados_pos_APGAR5\n",
        "dados_tratados.describe(include='all')"
      ],
      "execution_count": 0,
      "outputs": [
        {
          "output_type": "execute_result",
          "data": {
            "text/html": [
              "<div>\n",
              "<style scoped>\n",
              "    .dataframe tbody tr th:only-of-type {\n",
              "        vertical-align: middle;\n",
              "    }\n",
              "\n",
              "    .dataframe tbody tr th {\n",
              "        vertical-align: top;\n",
              "    }\n",
              "\n",
              "    .dataframe thead th {\n",
              "        text-align: right;\n",
              "    }\n",
              "</style>\n",
              "<table border=\"1\" class=\"dataframe\">\n",
              "  <thead>\n",
              "    <tr style=\"text-align: right;\">\n",
              "      <th></th>\n",
              "      <th>SEMAGESTAC</th>\n",
              "      <th>APGAR1</th>\n",
              "      <th>APGAR5</th>\n",
              "      <th>IDADEMAE</th>\n",
              "      <th>LOCNASC</th>\n",
              "      <th>CONSULTAS</th>\n",
              "      <th>QTDFILMORT</th>\n",
              "      <th>FLAG_FILHOS_MORTOS</th>\n",
              "      <th>CICLO_DE_VIDA</th>\n",
              "    </tr>\n",
              "  </thead>\n",
              "  <tbody>\n",
              "    <tr>\n",
              "      <th>count</th>\n",
              "      <td>168457.000000</td>\n",
              "      <td>168457.000000</td>\n",
              "      <td>168457.000000</td>\n",
              "      <td>168457.000000</td>\n",
              "      <td>168457</td>\n",
              "      <td>168457.000000</td>\n",
              "      <td>168457.000000</td>\n",
              "      <td>168457.000000</td>\n",
              "      <td>168334</td>\n",
              "    </tr>\n",
              "    <tr>\n",
              "      <th>unique</th>\n",
              "      <td>NaN</td>\n",
              "      <td>NaN</td>\n",
              "      <td>NaN</td>\n",
              "      <td>NaN</td>\n",
              "      <td>4</td>\n",
              "      <td>NaN</td>\n",
              "      <td>NaN</td>\n",
              "      <td>NaN</td>\n",
              "      <td>5</td>\n",
              "    </tr>\n",
              "    <tr>\n",
              "      <th>top</th>\n",
              "      <td>NaN</td>\n",
              "      <td>NaN</td>\n",
              "      <td>NaN</td>\n",
              "      <td>NaN</td>\n",
              "      <td>Hospital</td>\n",
              "      <td>NaN</td>\n",
              "      <td>NaN</td>\n",
              "      <td>NaN</td>\n",
              "      <td>]18 ; 34]</td>\n",
              "    </tr>\n",
              "    <tr>\n",
              "      <th>freq</th>\n",
              "      <td>NaN</td>\n",
              "      <td>NaN</td>\n",
              "      <td>NaN</td>\n",
              "      <td>NaN</td>\n",
              "      <td>167743</td>\n",
              "      <td>NaN</td>\n",
              "      <td>NaN</td>\n",
              "      <td>NaN</td>\n",
              "      <td>126429</td>\n",
              "    </tr>\n",
              "    <tr>\n",
              "      <th>mean</th>\n",
              "      <td>38.337196</td>\n",
              "      <td>8.453445</td>\n",
              "      <td>9.485643</td>\n",
              "      <td>27.238553</td>\n",
              "      <td>NaN</td>\n",
              "      <td>3.759850</td>\n",
              "      <td>0.228836</td>\n",
              "      <td>0.179114</td>\n",
              "      <td>NaN</td>\n",
              "    </tr>\n",
              "    <tr>\n",
              "      <th>std</th>\n",
              "      <td>2.115362</td>\n",
              "      <td>1.238465</td>\n",
              "      <td>0.825425</td>\n",
              "      <td>6.572332</td>\n",
              "      <td>NaN</td>\n",
              "      <td>0.711683</td>\n",
              "      <td>0.807790</td>\n",
              "      <td>0.383449</td>\n",
              "      <td>NaN</td>\n",
              "    </tr>\n",
              "    <tr>\n",
              "      <th>min</th>\n",
              "      <td>19.000000</td>\n",
              "      <td>0.000000</td>\n",
              "      <td>0.000000</td>\n",
              "      <td>11.000000</td>\n",
              "      <td>NaN</td>\n",
              "      <td>1.000000</td>\n",
              "      <td>0.000000</td>\n",
              "      <td>0.000000</td>\n",
              "      <td>NaN</td>\n",
              "    </tr>\n",
              "    <tr>\n",
              "      <th>25%</th>\n",
              "      <td>38.000000</td>\n",
              "      <td>8.000000</td>\n",
              "      <td>9.000000</td>\n",
              "      <td>22.000000</td>\n",
              "      <td>NaN</td>\n",
              "      <td>4.000000</td>\n",
              "      <td>0.000000</td>\n",
              "      <td>0.000000</td>\n",
              "      <td>NaN</td>\n",
              "    </tr>\n",
              "    <tr>\n",
              "      <th>50%</th>\n",
              "      <td>39.000000</td>\n",
              "      <td>9.000000</td>\n",
              "      <td>10.000000</td>\n",
              "      <td>27.000000</td>\n",
              "      <td>NaN</td>\n",
              "      <td>4.000000</td>\n",
              "      <td>0.000000</td>\n",
              "      <td>0.000000</td>\n",
              "      <td>NaN</td>\n",
              "    </tr>\n",
              "    <tr>\n",
              "      <th>75%</th>\n",
              "      <td>39.000000</td>\n",
              "      <td>9.000000</td>\n",
              "      <td>10.000000</td>\n",
              "      <td>32.000000</td>\n",
              "      <td>NaN</td>\n",
              "      <td>4.000000</td>\n",
              "      <td>0.000000</td>\n",
              "      <td>0.000000</td>\n",
              "      <td>NaN</td>\n",
              "    </tr>\n",
              "    <tr>\n",
              "      <th>max</th>\n",
              "      <td>45.000000</td>\n",
              "      <td>10.000000</td>\n",
              "      <td>10.000000</td>\n",
              "      <td>63.000000</td>\n",
              "      <td>NaN</td>\n",
              "      <td>9.000000</td>\n",
              "      <td>99.000000</td>\n",
              "      <td>1.000000</td>\n",
              "      <td>NaN</td>\n",
              "    </tr>\n",
              "  </tbody>\n",
              "</table>\n",
              "</div>"
            ],
            "text/plain": [
              "           SEMAGESTAC         APGAR1  ...  FLAG_FILHOS_MORTOS  CICLO_DE_VIDA\n",
              "count   168457.000000  168457.000000  ...       168457.000000         168334\n",
              "unique            NaN            NaN  ...                 NaN              5\n",
              "top               NaN            NaN  ...                 NaN      ]18 ; 34]\n",
              "freq              NaN            NaN  ...                 NaN         126429\n",
              "mean        38.337196       8.453445  ...            0.179114            NaN\n",
              "std          2.115362       1.238465  ...            0.383449            NaN\n",
              "min         19.000000       0.000000  ...            0.000000            NaN\n",
              "25%         38.000000       8.000000  ...            0.000000            NaN\n",
              "50%         39.000000       9.000000  ...            0.000000            NaN\n",
              "75%         39.000000       9.000000  ...            0.000000            NaN\n",
              "max         45.000000      10.000000  ...            1.000000            NaN\n",
              "\n",
              "[11 rows x 9 columns]"
            ]
          },
          "metadata": {
            "tags": []
          },
          "execution_count": 76
        }
      ]
    },
    {
      "cell_type": "markdown",
      "metadata": {
        "id": "mUbJkwnjWE3I",
        "colab_type": "text"
      },
      "source": [
        "## 2.5 Avaliando a influências das variáveis escolhidas à ocorrência de filhos mortos"
      ]
    },
    {
      "cell_type": "markdown",
      "metadata": {
        "id": "RrRNnqrmpBb3",
        "colab_type": "text"
      },
      "source": [
        "### 2.5.1) Avaliando a associação entre as variáveis de entrada e a Flag de filhos mortos\n",
        "\n",
        "Antes de ajustar uma regressão logística aos dados, foi feita uma análise descritiva, separando o conjunto de dados em dois grupos, um de mulheres com ao menos 1 filho morto e outro com zero filohs mortos. \n",
        "A avaliação entre a diferença das distribuições dos dados dos dois grupos foi feita mediante gráfico de boxplot."
      ]
    },
    {
      "cell_type": "markdown",
      "metadata": {
        "id": "NNkKfD4GsDJg",
        "colab_type": "text"
      },
      "source": [
        "#### *SEMAGESTAC*: Semanas de gestação\n",
        "\n",
        "Começando pela diferença entre as distribuições das semanas de gestação, verifica-se que o grupo com zero filhos mortos apresenta boxplot pouco acima do grupo com ao menos um filho morto.\n",
        "\n",
        "Como essa diferença é visual e pouco significativa, fica difícil verificar evidências que apontem associação entre a quantidade de semanas de gestação e a ocorrência de filhos mortos"
      ]
    },
    {
      "cell_type": "code",
      "metadata": {
        "id": "UccEAomrr0R1",
        "colab_type": "code",
        "outputId": "e33c25b5-cee6-4c12-aadc-7be286309ad7",
        "colab": {
          "base_uri": "https://localhost:8080/",
          "height": 300
        }
      },
      "source": [
        "sns.boxplot(y='SEMAGESTAC', x='FLAG_FILHOS_MORTOS',data=dados_tratados)\n",
        "plt.title('Boxplot', fontsize=20)\n",
        "plt.xlabel(\"Idade da Mãe\")\n",
        "plt.show()"
      ],
      "execution_count": 0,
      "outputs": [
        {
          "output_type": "display_data",
          "data": {
            "image/png": "[encoded data removed]",
            "text/plain": [
              "<Figure size 432x288 with 1 Axes>"
            ]
          },
          "metadata": {
            "tags": []
          }
        }
      ]
    },
    {
      "cell_type": "markdown",
      "metadata": {
        "id": "q1XBewGSsLrj",
        "colab_type": "text"
      },
      "source": [
        "#### *APGAR1*: Apgar mensurado no primeiro minuto de vida do recém nascido\n",
        "\n",
        "Comparando os valores de **APGAR** mensurados no primeiro minuto de vida, verifica-se quase nenhuma diferença entre as distribuições.\n",
        "\n",
        "Segundo o gráfico de Boxplot, existe evidências de que os valores de APGAR mensurados no primeiro minuto, não têm associação com a ocorrência de filhos mortos."
      ]
    },
    {
      "cell_type": "code",
      "metadata": {
        "id": "TbHe_3klsL3Q",
        "colab_type": "code",
        "outputId": "32791dbb-8193-44c9-c16f-197166ced927",
        "colab": {
          "base_uri": "https://localhost:8080/",
          "height": 300
        }
      },
      "source": [
        "sns.boxplot(y='APGAR1', x='FLAG_FILHOS_MORTOS',data=dados_tratados)\n",
        "plt.title('Boxplot', fontsize=20)\n",
        "plt.xlabel(\"Idade da Mãe\")\n",
        "plt.show()"
      ],
      "execution_count": 0,
      "outputs": [
        {
          "output_type": "display_data",
          "data": {
            "image/png": "[encoded data removed]",
            "text/plain": [
              "<Figure size 432x288 with 1 Axes>"
            ]
          },
          "metadata": {
            "tags": []
          }
        }
      ]
    },
    {
      "cell_type": "markdown",
      "metadata": {
        "id": "zxDG82YSsZYx",
        "colab_type": "text"
      },
      "source": [
        "#### *APGAR5*: Apgar mensurado no primeiro minuto de vida do recém nascido\n",
        "\n",
        "Com base no boxplot a seguir, verifica-se que também não existe diferença significativa entre os valores de APGAR5 para os grupos de filhos não mortos e mortos."
      ]
    },
    {
      "cell_type": "code",
      "metadata": {
        "id": "81Tcc2RhsZjB",
        "colab_type": "code",
        "outputId": "e4422d7c-e2f9-444b-e8d8-b593dc7305b6",
        "colab": {
          "base_uri": "https://localhost:8080/",
          "height": 300
        }
      },
      "source": [
        "sns.boxplot(y='APGAR5', x='FLAG_FILHOS_MORTOS',data=dados_tratados)\n",
        "plt.title('Boxplot', fontsize=20)\n",
        "plt.xlabel(\"Idade da Mãe\")\n",
        "plt.show()"
      ],
      "execution_count": 0,
      "outputs": [
        {
          "output_type": "display_data",
          "data": {
            "image/png": "[encoded data removed]",
            "text/plain": [
              "<Figure size 432x288 with 1 Axes>"
            ]
          },
          "metadata": {
            "tags": []
          }
        }
      ]
    },
    {
      "cell_type": "markdown",
      "metadata": {
        "id": "hTg827cysiyg",
        "colab_type": "text"
      },
      "source": [
        "#### *IDADEMAE*: Idade da mãe\n",
        "\n",
        "Para a variável Idade da mãe, percebe-se pouca diferença visual entre os boxplot dos grupos. As mulheres que tiveram ao menos 1 filhos morto apresentam Idade mediana, primeiro e terceiro quartis superiores ao de mulheres com nenhum filho morto. \n",
        "\n",
        "Essa diferença, apesar de pouco significativa pode ajudar a explicar a variável *FLAG_FILHOS_MORTOS*."
      ]
    },
    {
      "cell_type": "code",
      "metadata": {
        "id": "UA0PGTmlsi6z",
        "colab_type": "code",
        "outputId": "00b3dde0-95fe-4a40-eef5-49f62f998e7a",
        "colab": {
          "base_uri": "https://localhost:8080/",
          "height": 300
        }
      },
      "source": [
        "sns.boxplot(y='IDADEMAE', x='FLAG_FILHOS_MORTOS',data=dados_tratados)\n",
        "plt.title('Boxplot', fontsize=20)\n",
        "plt.xlabel(\"Idade da Mãe\")\n",
        "plt.show()"
      ],
      "execution_count": 0,
      "outputs": [
        {
          "output_type": "display_data",
          "data": {
            "image/png": "[encoded data removed]",
            "text/plain": [
              "<Figure size 432x288 with 1 Axes>"
            ]
          },
          "metadata": {
            "tags": []
          }
        }
      ]
    },
    {
      "cell_type": "markdown",
      "metadata": {
        "id": "Jg1-byPTsvrn",
        "colab_type": "text"
      },
      "source": [
        "#### *CONSULTAS*: Número de consultas Pré-natal\n",
        "\n",
        "A partir do gráfico de boxplot, percebe-se nenhuma diferença entre os numéro de consultas pré-natal para os grupos de mulheres."
      ]
    },
    {
      "cell_type": "code",
      "metadata": {
        "id": "TBd_mnqIsv0H",
        "colab_type": "code",
        "outputId": "e2bc8df8-929b-4bb1-80de-0e72b642196b",
        "colab": {
          "base_uri": "https://localhost:8080/",
          "height": 300
        }
      },
      "source": [
        "sns.boxplot(y='CONSULTAS', x='FLAG_FILHOS_MORTOS',data=dados_tratados)\n",
        "plt.title('Boxplot', fontsize=20)\n",
        "plt.xlabel(\"Idade da Mãe\")\n",
        "plt.show()"
      ],
      "execution_count": 0,
      "outputs": [
        {
          "output_type": "display_data",
          "data": {
            "image/png": "[encoded data removed]",
            "text/plain": [
              "<Figure size 432x288 with 1 Axes>"
            ]
          },
          "metadata": {
            "tags": []
          }
        }
      ]
    },
    {
      "cell_type": "markdown",
      "metadata": {
        "id": "VoEXvYQBLZch",
        "colab_type": "text"
      },
      "source": [
        "### 2.5.2) Avaliando a correlação entre as variáveis\n",
        "\n",
        "Antes de ajustar uma regressão logística nos dados, foi feito uma análise de correlação entre as variáveis de entrada para minimizar problemas de multicolinearidade dos dados.\n",
        "\n",
        "Como verificado na análise univariada, a maioria das mulheres tiveram seus partos no hospital (99,5%), a variável de local de nascimento foi previamente descartada.\n",
        "\n",
        "Outra variável descarta foi de *faixa etária*, pois ela já está sendo representada pela *idade da mãe*\n"
      ]
    },
    {
      "cell_type": "code",
      "metadata": {
        "id": "8Io9u-IDWQhU",
        "colab_type": "code",
        "colab": {}
      },
      "source": [
        "# Variáveis de entrada\n",
        "X = dados_tratados[['SEMAGESTAC', 'APGAR1', 'APGAR5', 'IDADEMAE', 'CONSULTAS']]\n",
        "y = dados_tratados['FLAG_FILHOS_MORTOS']"
      ],
      "execution_count": 0,
      "outputs": []
    },
    {
      "cell_type": "code",
      "metadata": {
        "id": "3Yo0byxXLZqR",
        "colab_type": "code",
        "outputId": "2072a553-204a-4d97-fb2f-e68be710fddc",
        "colab": {
          "base_uri": "https://localhost:8080/",
          "height": 204
        }
      },
      "source": [
        "X.corr()"
      ],
      "execution_count": 0,
      "outputs": [
        {
          "output_type": "execute_result",
          "data": {
            "text/html": [
              "<div>\n",
              "<style scoped>\n",
              "    .dataframe tbody tr th:only-of-type {\n",
              "        vertical-align: middle;\n",
              "    }\n",
              "\n",
              "    .dataframe tbody tr th {\n",
              "        vertical-align: top;\n",
              "    }\n",
              "\n",
              "    .dataframe thead th {\n",
              "        text-align: right;\n",
              "    }\n",
              "</style>\n",
              "<table border=\"1\" class=\"dataframe\">\n",
              "  <thead>\n",
              "    <tr style=\"text-align: right;\">\n",
              "      <th></th>\n",
              "      <th>SEMAGESTAC</th>\n",
              "      <th>APGAR1</th>\n",
              "      <th>APGAR5</th>\n",
              "      <th>IDADEMAE</th>\n",
              "      <th>CONSULTAS</th>\n",
              "    </tr>\n",
              "  </thead>\n",
              "  <tbody>\n",
              "    <tr>\n",
              "      <th>SEMAGESTAC</th>\n",
              "      <td>1.000000</td>\n",
              "      <td>0.247049</td>\n",
              "      <td>0.253971</td>\n",
              "      <td>-0.058696</td>\n",
              "      <td>0.140247</td>\n",
              "    </tr>\n",
              "    <tr>\n",
              "      <th>APGAR1</th>\n",
              "      <td>0.247049</td>\n",
              "      <td>1.000000</td>\n",
              "      <td>0.699481</td>\n",
              "      <td>0.014083</td>\n",
              "      <td>0.049995</td>\n",
              "    </tr>\n",
              "    <tr>\n",
              "      <th>APGAR5</th>\n",
              "      <td>0.253971</td>\n",
              "      <td>0.699481</td>\n",
              "      <td>1.000000</td>\n",
              "      <td>0.009656</td>\n",
              "      <td>0.057324</td>\n",
              "    </tr>\n",
              "    <tr>\n",
              "      <th>IDADEMAE</th>\n",
              "      <td>-0.058696</td>\n",
              "      <td>0.014083</td>\n",
              "      <td>0.009656</td>\n",
              "      <td>1.000000</td>\n",
              "      <td>0.070006</td>\n",
              "    </tr>\n",
              "    <tr>\n",
              "      <th>CONSULTAS</th>\n",
              "      <td>0.140247</td>\n",
              "      <td>0.049995</td>\n",
              "      <td>0.057324</td>\n",
              "      <td>0.070006</td>\n",
              "      <td>1.000000</td>\n",
              "    </tr>\n",
              "  </tbody>\n",
              "</table>\n",
              "</div>"
            ],
            "text/plain": [
              "            SEMAGESTAC    APGAR1    APGAR5  IDADEMAE  CONSULTAS\n",
              "SEMAGESTAC    1.000000  0.247049  0.253971 -0.058696   0.140247\n",
              "APGAR1        0.247049  1.000000  0.699481  0.014083   0.049995\n",
              "APGAR5        0.253971  0.699481  1.000000  0.009656   0.057324\n",
              "IDADEMAE     -0.058696  0.014083  0.009656  1.000000   0.070006\n",
              "CONSULTAS     0.140247  0.049995  0.057324  0.070006   1.000000"
            ]
          },
          "metadata": {
            "tags": []
          },
          "execution_count": 78
        }
      ]
    },
    {
      "cell_type": "code",
      "metadata": {
        "id": "q8VPgdD1L5Lh",
        "colab_type": "code",
        "outputId": "b708b78a-f725-490e-d5ec-ec45163cb449",
        "colab": {
          "base_uri": "https://localhost:8080/",
          "height": 145
        }
      },
      "source": [
        "X.corr().style.background_gradient(cmap='coolwarm').set_precision(2)\n"
      ],
      "execution_count": 0,
      "outputs": [
        {
          "output_type": "execute_result",
          "data": {
            "text/html": [
              "<style  type=\"text/css\" >\n",
              "    #T_41dd229e_2131_11ea_a81f_0242ac1c0002row0_col0 {\n",
              "            background-color:  #b40426;\n",
              "            color:  #f1f1f1;\n",
              "        }    #T_41dd229e_2131_11ea_a81f_0242ac1c0002row0_col1 {\n",
              "            background-color:  #88abfd;\n",
              "            color:  #000000;\n",
              "        }    #T_41dd229e_2131_11ea_a81f_0242ac1c0002row0_col2 {\n",
              "            background-color:  #8caffe;\n",
              "            color:  #000000;\n",
              "        }    #T_41dd229e_2131_11ea_a81f_0242ac1c0002row0_col3 {\n",
              "            background-color:  #3b4cc0;\n",
              "            color:  #f1f1f1;\n",
              "        }    #T_41dd229e_2131_11ea_a81f_0242ac1c0002row0_col4 {\n",
              "            background-color:  #5875e1;\n",
              "            color:  #000000;\n",
              "        }    #T_41dd229e_2131_11ea_a81f_0242ac1c0002row1_col0 {\n",
              "            background-color:  #9abbff;\n",
              "            color:  #000000;\n",
              "        }    #T_41dd229e_2131_11ea_a81f_0242ac1c0002row1_col1 {\n",
              "            background-color:  #b40426;\n",
              "            color:  #f1f1f1;\n",
              "        }    #T_41dd229e_2131_11ea_a81f_0242ac1c0002row1_col2 {\n",
              "            background-color:  #f7ad90;\n",
              "            color:  #000000;\n",
              "        }    #T_41dd229e_2131_11ea_a81f_0242ac1c0002row1_col3 {\n",
              "            background-color:  #4f69d9;\n",
              "            color:  #000000;\n",
              "        }    #T_41dd229e_2131_11ea_a81f_0242ac1c0002row1_col4 {\n",
              "            background-color:  #3b4cc0;\n",
              "            color:  #f1f1f1;\n",
              "        }    #T_41dd229e_2131_11ea_a81f_0242ac1c0002row2_col0 {\n",
              "            background-color:  #9dbdff;\n",
              "            color:  #000000;\n",
              "        }    #T_41dd229e_2131_11ea_a81f_0242ac1c0002row2_col1 {\n",
              "            background-color:  #f7af91;\n",
              "            color:  #000000;\n",
              "        }    #T_41dd229e_2131_11ea_a81f_0242ac1c0002row2_col2 {\n",
              "            background-color:  #b40426;\n",
              "            color:  #f1f1f1;\n",
              "        }    #T_41dd229e_2131_11ea_a81f_0242ac1c0002row2_col3 {\n",
              "            background-color:  #4e68d8;\n",
              "            color:  #000000;\n",
              "        }    #T_41dd229e_2131_11ea_a81f_0242ac1c0002row2_col4 {\n",
              "            background-color:  #3c4ec2;\n",
              "            color:  #f1f1f1;\n",
              "        }    #T_41dd229e_2131_11ea_a81f_0242ac1c0002row3_col0 {\n",
              "            background-color:  #3b4cc0;\n",
              "            color:  #f1f1f1;\n",
              "        }    #T_41dd229e_2131_11ea_a81f_0242ac1c0002row3_col1 {\n",
              "            background-color:  #3b4cc0;\n",
              "            color:  #f1f1f1;\n",
              "        }    #T_41dd229e_2131_11ea_a81f_0242ac1c0002row3_col2 {\n",
              "            background-color:  #3b4cc0;\n",
              "            color:  #f1f1f1;\n",
              "        }    #T_41dd229e_2131_11ea_a81f_0242ac1c0002row3_col3 {\n",
              "            background-color:  #b40426;\n",
              "            color:  #f1f1f1;\n",
              "        }    #T_41dd229e_2131_11ea_a81f_0242ac1c0002row3_col4 {\n",
              "            background-color:  #4055c8;\n",
              "            color:  #f1f1f1;\n",
              "        }    #T_41dd229e_2131_11ea_a81f_0242ac1c0002row4_col0 {\n",
              "            background-color:  #779af7;\n",
              "            color:  #000000;\n",
              "        }    #T_41dd229e_2131_11ea_a81f_0242ac1c0002row4_col1 {\n",
              "            background-color:  #455cce;\n",
              "            color:  #f1f1f1;\n",
              "        }    #T_41dd229e_2131_11ea_a81f_0242ac1c0002row4_col2 {\n",
              "            background-color:  #4961d2;\n",
              "            color:  #f1f1f1;\n",
              "        }    #T_41dd229e_2131_11ea_a81f_0242ac1c0002row4_col3 {\n",
              "            background-color:  #6180e9;\n",
              "            color:  #000000;\n",
              "        }    #T_41dd229e_2131_11ea_a81f_0242ac1c0002row4_col4 {\n",
              "            background-color:  #b40426;\n",
              "            color:  #f1f1f1;\n",
              "        }</style><table id=\"T_41dd229e_2131_11ea_a81f_0242ac1c0002\" ><thead>    <tr>        <th class=\"blank level0\" ></th>        <th class=\"col_heading level0 col0\" >SEMAGESTAC</th>        <th class=\"col_heading level0 col1\" >APGAR1</th>        <th class=\"col_heading level0 col2\" >APGAR5</th>        <th class=\"col_heading level0 col3\" >IDADEMAE</th>        <th class=\"col_heading level0 col4\" >CONSULTAS</th>    </tr></thead><tbody>\n",
              "                <tr>\n",
              "                        <th id=\"T_41dd229e_2131_11ea_a81f_0242ac1c0002level0_row0\" class=\"row_heading level0 row0\" >SEMAGESTAC</th>\n",
              "                        <td id=\"T_41dd229e_2131_11ea_a81f_0242ac1c0002row0_col0\" class=\"data row0 col0\" >1</td>\n",
              "                        <td id=\"T_41dd229e_2131_11ea_a81f_0242ac1c0002row0_col1\" class=\"data row0 col1\" >0.25</td>\n",
              "                        <td id=\"T_41dd229e_2131_11ea_a81f_0242ac1c0002row0_col2\" class=\"data row0 col2\" >0.25</td>\n",
              "                        <td id=\"T_41dd229e_2131_11ea_a81f_0242ac1c0002row0_col3\" class=\"data row0 col3\" >-0.059</td>\n",
              "                        <td id=\"T_41dd229e_2131_11ea_a81f_0242ac1c0002row0_col4\" class=\"data row0 col4\" >0.14</td>\n",
              "            </tr>\n",
              "            <tr>\n",
              "                        <th id=\"T_41dd229e_2131_11ea_a81f_0242ac1c0002level0_row1\" class=\"row_heading level0 row1\" >APGAR1</th>\n",
              "                        <td id=\"T_41dd229e_2131_11ea_a81f_0242ac1c0002row1_col0\" class=\"data row1 col0\" >0.25</td>\n",
              "                        <td id=\"T_41dd229e_2131_11ea_a81f_0242ac1c0002row1_col1\" class=\"data row1 col1\" >1</td>\n",
              "                        <td id=\"T_41dd229e_2131_11ea_a81f_0242ac1c0002row1_col2\" class=\"data row1 col2\" >0.7</td>\n",
              "                        <td id=\"T_41dd229e_2131_11ea_a81f_0242ac1c0002row1_col3\" class=\"data row1 col3\" >0.014</td>\n",
              "                        <td id=\"T_41dd229e_2131_11ea_a81f_0242ac1c0002row1_col4\" class=\"data row1 col4\" >0.05</td>\n",
              "            </tr>\n",
              "            <tr>\n",
              "                        <th id=\"T_41dd229e_2131_11ea_a81f_0242ac1c0002level0_row2\" class=\"row_heading level0 row2\" >APGAR5</th>\n",
              "                        <td id=\"T_41dd229e_2131_11ea_a81f_0242ac1c0002row2_col0\" class=\"data row2 col0\" >0.25</td>\n",
              "                        <td id=\"T_41dd229e_2131_11ea_a81f_0242ac1c0002row2_col1\" class=\"data row2 col1\" >0.7</td>\n",
              "                        <td id=\"T_41dd229e_2131_11ea_a81f_0242ac1c0002row2_col2\" class=\"data row2 col2\" >1</td>\n",
              "                        <td id=\"T_41dd229e_2131_11ea_a81f_0242ac1c0002row2_col3\" class=\"data row2 col3\" >0.0097</td>\n",
              "                        <td id=\"T_41dd229e_2131_11ea_a81f_0242ac1c0002row2_col4\" class=\"data row2 col4\" >0.057</td>\n",
              "            </tr>\n",
              "            <tr>\n",
              "                        <th id=\"T_41dd229e_2131_11ea_a81f_0242ac1c0002level0_row3\" class=\"row_heading level0 row3\" >IDADEMAE</th>\n",
              "                        <td id=\"T_41dd229e_2131_11ea_a81f_0242ac1c0002row3_col0\" class=\"data row3 col0\" >-0.059</td>\n",
              "                        <td id=\"T_41dd229e_2131_11ea_a81f_0242ac1c0002row3_col1\" class=\"data row3 col1\" >0.014</td>\n",
              "                        <td id=\"T_41dd229e_2131_11ea_a81f_0242ac1c0002row3_col2\" class=\"data row3 col2\" >0.0097</td>\n",
              "                        <td id=\"T_41dd229e_2131_11ea_a81f_0242ac1c0002row3_col3\" class=\"data row3 col3\" >1</td>\n",
              "                        <td id=\"T_41dd229e_2131_11ea_a81f_0242ac1c0002row3_col4\" class=\"data row3 col4\" >0.07</td>\n",
              "            </tr>\n",
              "            <tr>\n",
              "                        <th id=\"T_41dd229e_2131_11ea_a81f_0242ac1c0002level0_row4\" class=\"row_heading level0 row4\" >CONSULTAS</th>\n",
              "                        <td id=\"T_41dd229e_2131_11ea_a81f_0242ac1c0002row4_col0\" class=\"data row4 col0\" >0.14</td>\n",
              "                        <td id=\"T_41dd229e_2131_11ea_a81f_0242ac1c0002row4_col1\" class=\"data row4 col1\" >0.05</td>\n",
              "                        <td id=\"T_41dd229e_2131_11ea_a81f_0242ac1c0002row4_col2\" class=\"data row4 col2\" >0.057</td>\n",
              "                        <td id=\"T_41dd229e_2131_11ea_a81f_0242ac1c0002row4_col3\" class=\"data row4 col3\" >0.07</td>\n",
              "                        <td id=\"T_41dd229e_2131_11ea_a81f_0242ac1c0002row4_col4\" class=\"data row4 col4\" >1</td>\n",
              "            </tr>\n",
              "    </tbody></table>"
            ],
            "text/plain": [
              "<pandas.io.formats.style.Styler at 0x7ffa8ad193c8>"
            ]
          },
          "metadata": {
            "tags": []
          },
          "execution_count": 79
        }
      ]
    },
    {
      "cell_type": "markdown",
      "metadata": {
        "id": "xDq1zixVghBa",
        "colab_type": "text"
      },
      "source": [
        "Avaliando o gráfico e a tabela de correlação entre as variáveis de entrada verificou-se alto valor de correlação entre **APGAR1** e **APGAR5**. Esse nível de correlação pode gerar confundimento no modelo de regressão logística. [(James, G 2013)](https://www.amazon.com.br/Introduction-Statistical-Learning-Applications-103/dp/1461471370)\n",
        "Sendo assim, optou-se por excluir a variável **APGAR5**."
      ]
    },
    {
      "cell_type": "code",
      "metadata": {
        "id": "NrfPIBFZYh-j",
        "colab_type": "code",
        "outputId": "d6e196a4-eb21-407e-b217-cd28598938bd",
        "colab": {
          "base_uri": "https://localhost:8080/",
          "height": 204
        }
      },
      "source": [
        "X = X.drop(columns = ['APGAR5'])\n",
        "X.head()"
      ],
      "execution_count": 0,
      "outputs": [
        {
          "output_type": "execute_result",
          "data": {
            "text/html": [
              "<div>\n",
              "<style scoped>\n",
              "    .dataframe tbody tr th:only-of-type {\n",
              "        vertical-align: middle;\n",
              "    }\n",
              "\n",
              "    .dataframe tbody tr th {\n",
              "        vertical-align: top;\n",
              "    }\n",
              "\n",
              "    .dataframe thead th {\n",
              "        text-align: right;\n",
              "    }\n",
              "</style>\n",
              "<table border=\"1\" class=\"dataframe\">\n",
              "  <thead>\n",
              "    <tr style=\"text-align: right;\">\n",
              "      <th></th>\n",
              "      <th>SEMAGESTAC</th>\n",
              "      <th>APGAR1</th>\n",
              "      <th>IDADEMAE</th>\n",
              "      <th>CONSULTAS</th>\n",
              "    </tr>\n",
              "  </thead>\n",
              "  <tbody>\n",
              "    <tr>\n",
              "      <th>0</th>\n",
              "      <td>32.0</td>\n",
              "      <td>8.0</td>\n",
              "      <td>13</td>\n",
              "      <td>2</td>\n",
              "    </tr>\n",
              "    <tr>\n",
              "      <th>1</th>\n",
              "      <td>39.0</td>\n",
              "      <td>9.0</td>\n",
              "      <td>17</td>\n",
              "      <td>4</td>\n",
              "    </tr>\n",
              "    <tr>\n",
              "      <th>2</th>\n",
              "      <td>38.0</td>\n",
              "      <td>9.0</td>\n",
              "      <td>19</td>\n",
              "      <td>3</td>\n",
              "    </tr>\n",
              "    <tr>\n",
              "      <th>3</th>\n",
              "      <td>41.0</td>\n",
              "      <td>10.0</td>\n",
              "      <td>24</td>\n",
              "      <td>4</td>\n",
              "    </tr>\n",
              "    <tr>\n",
              "      <th>4</th>\n",
              "      <td>39.0</td>\n",
              "      <td>9.0</td>\n",
              "      <td>19</td>\n",
              "      <td>4</td>\n",
              "    </tr>\n",
              "  </tbody>\n",
              "</table>\n",
              "</div>"
            ],
            "text/plain": [
              "   SEMAGESTAC  APGAR1  IDADEMAE  CONSULTAS\n",
              "0        32.0     8.0        13          2\n",
              "1        39.0     9.0        17          4\n",
              "2        38.0     9.0        19          3\n",
              "3        41.0    10.0        24          4\n",
              "4        39.0     9.0        19          4"
            ]
          },
          "metadata": {
            "tags": []
          },
          "execution_count": 81
        }
      ]
    },
    {
      "cell_type": "markdown",
      "metadata": {
        "id": "tbEnxdYAHRvU",
        "colab_type": "text"
      },
      "source": [
        "### 2.5.3) Ajustando a regressão logística\n",
        "\n",
        "O ajuste da regressão logística aos dados foi feito utilizando todas as variáveis que restaram após a análise de correlação.\n",
        "Com base nos *p-valores* apresentados na tabela de resumo da regressão, todas as variáveis foram ajustadas e são significativas."
      ]
    },
    {
      "cell_type": "code",
      "metadata": {
        "id": "XE2B6H1QZTgY",
        "colab_type": "code",
        "outputId": "77b5edcb-c54b-4537-c953-31be39e6bba2",
        "colab": {
          "base_uri": "https://localhost:8080/",
          "height": 362
        }
      },
      "source": [
        "model = sm.Logit(y, X_filtrado)\n",
        "result = model.fit()\n",
        "result.summary()"
      ],
      "execution_count": 0,
      "outputs": [
        {
          "output_type": "stream",
          "text": [
            "Optimization terminated successfully.\n",
            "         Current function value: 0.454067\n",
            "         Iterations 6\n"
          ],
          "name": "stdout"
        },
        {
          "output_type": "execute_result",
          "data": {
            "text/html": [
              "<table class=\"simpletable\">\n",
              "<caption>Logit Regression Results</caption>\n",
              "<tr>\n",
              "  <th>Dep. Variable:</th>   <td>FLAG_FILHOS_MORTOS</td> <th>  No. Observations:  </th>  <td>168457</td> \n",
              "</tr>\n",
              "<tr>\n",
              "  <th>Model:</th>                  <td>Logit</td>       <th>  Df Residuals:      </th>  <td>168452</td> \n",
              "</tr>\n",
              "<tr>\n",
              "  <th>Method:</th>                  <td>MLE</td>        <th>  Df Model:          </th>  <td>     4</td> \n",
              "</tr>\n",
              "<tr>\n",
              "  <th>Date:</th>             <td>Wed, 18 Dec 2019</td>  <th>  Pseudo R-squ.:     </th>  <td>0.03400</td>\n",
              "</tr>\n",
              "<tr>\n",
              "  <th>Time:</th>                 <td>01:01:41</td>      <th>  Log-Likelihood:    </th> <td> -76491.</td>\n",
              "</tr>\n",
              "<tr>\n",
              "  <th>converged:</th>              <td>True</td>        <th>  LL-Null:           </th> <td> -79183.</td>\n",
              "</tr>\n",
              "<tr>\n",
              "  <th>Covariance Type:</th>      <td>nonrobust</td>     <th>  LLR p-value:       </th>  <td> 0.000</td> \n",
              "</tr>\n",
              "</table>\n",
              "<table class=\"simpletable\">\n",
              "<tr>\n",
              "       <td></td>         <th>coef</th>     <th>std err</th>      <th>z</th>      <th>P>|z|</th>  <th>[0.025</th>    <th>0.975]</th>  \n",
              "</tr>\n",
              "<tr>\n",
              "  <th>SEMAGESTAC</th> <td>   -0.0646</td> <td>    0.002</td> <td>  -30.067</td> <td> 0.000</td> <td>   -0.069</td> <td>   -0.060</td>\n",
              "</tr>\n",
              "<tr>\n",
              "  <th>APGAR1</th>     <td>   -0.0229</td> <td>    0.005</td> <td>   -4.429</td> <td> 0.000</td> <td>   -0.033</td> <td>   -0.013</td>\n",
              "</tr>\n",
              "<tr>\n",
              "  <th>IDADEMAE</th>   <td>    0.0683</td> <td>    0.001</td> <td>   70.211</td> <td> 0.000</td> <td>    0.066</td> <td>    0.070</td>\n",
              "</tr>\n",
              "<tr>\n",
              "  <th>CONSULTAS</th>  <td>   -0.0291</td> <td>    0.009</td> <td>   -3.155</td> <td> 0.002</td> <td>   -0.047</td> <td>   -0.011</td>\n",
              "</tr>\n",
              "<tr>\n",
              "  <th>Hospital</th>   <td>   -0.6724</td> <td>    0.068</td> <td>   -9.896</td> <td> 0.000</td> <td>   -0.806</td> <td>   -0.539</td>\n",
              "</tr>\n",
              "</table>"
            ],
            "text/plain": [
              "<class 'statsmodels.iolib.summary.Summary'>\n",
              "\"\"\"\n",
              "                           Logit Regression Results                           \n",
              "==============================================================================\n",
              "Dep. Variable:     FLAG_FILHOS_MORTOS   No. Observations:               168457\n",
              "Model:                          Logit   Df Residuals:                   168452\n",
              "Method:                           MLE   Df Model:                            4\n",
              "Date:                Wed, 18 Dec 2019   Pseudo R-squ.:                 0.03400\n",
              "Time:                        01:01:41   Log-Likelihood:                -76491.\n",
              "converged:                       True   LL-Null:                       -79183.\n",
              "Covariance Type:            nonrobust   LLR p-value:                     0.000\n",
              "==============================================================================\n",
              "                 coef    std err          z      P>|z|      [0.025      0.975]\n",
              "------------------------------------------------------------------------------\n",
              "SEMAGESTAC    -0.0646      0.002    -30.067      0.000      -0.069      -0.060\n",
              "APGAR1        -0.0229      0.005     -4.429      0.000      -0.033      -0.013\n",
              "IDADEMAE       0.0683      0.001     70.211      0.000       0.066       0.070\n",
              "CONSULTAS     -0.0291      0.009     -3.155      0.002      -0.047      -0.011\n",
              "Hospital      -0.6724      0.068     -9.896      0.000      -0.806      -0.539\n",
              "==============================================================================\n",
              "\"\"\""
            ]
          },
          "metadata": {
            "tags": []
          },
          "execution_count": 82
        }
      ]
    },
    {
      "cell_type": "markdown",
      "metadata": {
        "id": "cL4nB3zKsD6T",
        "colab_type": "text"
      },
      "source": [
        "### 2.5.4) Verificando a qualidade do ajuste da regressão\n",
        "\n",
        "Após o ajuste da regressão logística, foi utilizado um gráfico de AUC-ROC para avaliar a qualidade do ajuste.\n",
        "Com base no gráfico e no valor de AUC=0,59, pode-se concluir que o que apesar de as variáveis ter sua significância no modelo, elas não conseguem explicar a ocorrência de filhos mortos muito melhor do que a taxa aleatória base de 0,50."
      ]
    },
    {
      "cell_type": "code",
      "metadata": {
        "id": "FzwXmhVUHtDa",
        "colab_type": "code",
        "outputId": "2cf0f6ef-0dc5-44ff-c9f3-fae81f6c15c0",
        "colab": {
          "base_uri": "https://localhost:8080/",
          "height": 265
        }
      },
      "source": [
        "fpr, tpr, _ = roc_curve(y,result.predict())\n",
        "auc = round(roc_auc_score(y,(result.predict()>=0.15)*1),2)\n",
        "\n",
        "plt.plot(fpr,tpr,label=\"data 1, auc=\"+str(auc))\n",
        "plt.legend(loc=4)\n",
        "plt.show()"
      ],
      "execution_count": 0,
      "outputs": [
        {
          "output_type": "display_data",
          "data": {
            "image/png": "[encoded data removed]",
            "text/plain": [
              "<Figure size 432x288 with 1 Axes>"
            ]
          },
          "metadata": {
            "tags": []
          }
        }
      ]
    }
  ]
}